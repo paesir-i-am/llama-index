{
 "cells": [
  {
   "cell_type": "markdown",
   "id": "5dbcdf03",
   "metadata": {},
   "source": [
    "## 펑션 콜링(function calling) 작동 방식 이해하기 "
   ]
  },
  {
   "cell_type": "code",
   "execution_count": null,
   "id": "0c968537",
   "metadata": {},
   "outputs": [],
   "source": [
    "api_key = \"your-api-key-here\""
   ]
  },
  {
   "cell_type": "code",
   "execution_count": 6,
   "id": "37f1d4c5",
   "metadata": {},
   "outputs": [],
   "source": [
    "from llama_index.llms.openai import OpenAI\n",
    "from llama_index.core.agent import ReActAgent\n",
    "from llama_index.core.tools import FunctionTool\n",
    "import numpy as np\n",
    "\n",
    "llm=OpenAI(model=\"gpt-4o-mini\", api_key=api_key)"
   ]
  },
  {
   "cell_type": "code",
   "execution_count": 7,
   "id": "d6ad7174",
   "metadata": {},
   "outputs": [],
   "source": [
    "def add(a,b):\n",
    "    \"\"\" 주어진 두 숫자를 더하고 결과를 출력합니다 \"\"\"\n",
    "    return a+b\n",
    "\n",
    "\n",
    "def mul(a,b):\n",
    "    \"\"\" 주어진 두 숫자를 곱하고 결과를 출력합니다 \"\"\"\n",
    "    return a*b\n",
    "\n",
    "def div(a,b):\n",
    "    \"\"\" 주어진 두 숫자 중 첫번 째 숫자를 두번 째 숫자로 나누고 결과를 출력합니다 \"\"\"\n",
    "    return a/b\n"
   ]
  },
  {
   "cell_type": "code",
   "execution_count": 8,
   "id": "3d81773a",
   "metadata": {},
   "outputs": [],
   "source": [
    "at=FunctionTool.from_defaults(fn=add)\n",
    "mt=FunctionTool.from_defaults(fn=mul)\n",
    "dt=FunctionTool.from_defaults(fn=div)"
   ]
  },
  {
   "cell_type": "code",
   "execution_count": 12,
   "id": "1952cdad",
   "metadata": {},
   "outputs": [],
   "source": [
    "agent_worker=ReActAgent(\n",
    "                      name=\"my_agent\",\n",
    "                      tools=[at,mt,dt],\n",
    "                      llm=llm,\n",
    "                      verbose=True\n",
    "                      )\n"
   ]
  },
  {
   "cell_type": "code",
   "execution_count": null,
   "id": "9288b7b8",
   "metadata": {},
   "outputs": [
    {
     "name": "stderr",
     "output_type": "stream",
     "text": [
      "Keyword arguments are not supported when 'run()' is invoked with the 'start_event' parameter. These keyword arguments will be ignored: {'stepwise': False}\n"
     ]
    },
    {
     "name": "stdout",
     "output_type": "stream",
     "text": [
      "Running step init_run\n",
      "Step init_run produced event AgentInput\n",
      "Running step setup_agent\n",
      "Step setup_agent produced event AgentSetup\n",
      "Running step run_agent_step\n",
      "Step run_agent_step produced event AgentOutput\n",
      "Running step parse_agent_output\n",
      "Step parse_agent_output produced no event\n",
      "Running step call_tool\n",
      "Step call_tool produced event ToolCallResult\n",
      "Running step aggregate_tool_results\n",
      "Step aggregate_tool_results produced event AgentInput\n",
      "Running step setup_agent\n",
      "Step setup_agent produced event AgentSetup\n",
      "Running step run_agent_step\n",
      "Step run_agent_step produced event AgentOutput\n",
      "Running step parse_agent_output\n",
      "Step parse_agent_output produced no event\n",
      "Running step call_tool\n",
      "Step call_tool produced event ToolCallResult\n",
      "Running step aggregate_tool_results\n",
      "Step aggregate_tool_results produced event AgentInput\n",
      "Running step setup_agent\n",
      "Step setup_agent produced event AgentSetup\n",
      "Running step run_agent_step\n",
      "Step run_agent_step produced event AgentOutput\n",
      "Running step parse_agent_output\n",
      "Step parse_agent_output produced no event\n",
      "Running step call_tool\n",
      "Step call_tool produced event ToolCallResult\n",
      "Running step aggregate_tool_results\n",
      "Step aggregate_tool_results produced event AgentInput\n",
      "Running step setup_agent\n",
      "Step setup_agent produced event AgentSetup\n",
      "Running step run_agent_step\n",
      "Step run_agent_step produced event AgentOutput\n",
      "Running step parse_agent_output\n",
      "Step parse_agent_output produced event StopEvent\n",
      "(77*2+2)를 78로 나눈 값은 2.0입니다.\n"
     ]
    }
   ],
   "source": [
    "response= await agent_worker.run(\"(77*2+2)를 78로 나눈 값을 계산해 줘\")\n",
    "print(response)"
   ]
  },
  {
   "cell_type": "markdown",
   "id": "c5765cff",
   "metadata": {},
   "source": [
    "## 펑션 콜링 실습 -외부 API를 활용하는 Function Calling Agent"
   ]
  },
  {
   "cell_type": "code",
   "execution_count": 18,
   "id": "66a290fe",
   "metadata": {},
   "outputs": [],
   "source": [
    "from llama_index.llms.openai import OpenAI\n",
    "from llama_index.core.agent import ReActAgent\n",
    "from llama_index.core.tools import FunctionTool\n",
    "import numpy as np\n",
    "\n",
    "llm=OpenAI(model=\"gpt-4o-mini\", api_key=api_key)"
   ]
  },
  {
   "cell_type": "code",
   "execution_count": 19,
   "id": "f3213a62",
   "metadata": {},
   "outputs": [
    {
     "name": "stdout",
     "output_type": "stream",
     "text": [
      "Collecting yfinance==0.2.55\n",
      "  Downloading yfinance-0.2.55-py2.py3-none-any.whl.metadata (5.8 kB)\n",
      "Requirement already satisfied: pandas>=1.3.0 in /Users/paesir/Desktop/llama-index/.venv/lib/python3.12/site-packages (from yfinance==0.2.55) (2.2.3)\n",
      "Requirement already satisfied: numpy>=1.16.5 in /Users/paesir/Desktop/llama-index/.venv/lib/python3.12/site-packages (from yfinance==0.2.55) (1.26.4)\n",
      "Requirement already satisfied: requests>=2.31 in /Users/paesir/Desktop/llama-index/.venv/lib/python3.12/site-packages (from yfinance==0.2.55) (2.32.5)\n",
      "Collecting multitasking>=0.0.7 (from yfinance==0.2.55)\n",
      "  Downloading multitasking-0.0.12.tar.gz (19 kB)\n",
      "  Installing build dependencies ... \u001b[?25ldone\n",
      "\u001b[?25h  Getting requirements to build wheel ... \u001b[?25ldone\n",
      "\u001b[?25h  Preparing metadata (pyproject.toml) ... \u001b[?25ldone\n",
      "\u001b[?25hRequirement already satisfied: platformdirs>=2.0.0 in /Users/paesir/Desktop/llama-index/.venv/lib/python3.12/site-packages (from yfinance==0.2.55) (4.4.0)\n",
      "Requirement already satisfied: pytz>=2022.5 in /Users/paesir/Desktop/llama-index/.venv/lib/python3.12/site-packages (from yfinance==0.2.55) (2025.2)\n",
      "Collecting frozendict>=2.3.4 (from yfinance==0.2.55)\n",
      "  Downloading frozendict-2.4.6-py312-none-any.whl.metadata (23 kB)\n",
      "Collecting peewee>=3.16.2 (from yfinance==0.2.55)\n",
      "  Downloading peewee-3.18.2.tar.gz (949 kB)\n",
      "\u001b[2K     \u001b[90m━━━━━━━━━━━━━━━━━━━━━━━━━━━━━━━━━━━━━━━━\u001b[0m \u001b[32m949.2/949.2 kB\u001b[0m \u001b[31m46.7 MB/s\u001b[0m  \u001b[33m0:00:00\u001b[0m\n",
      "\u001b[?25h  Installing build dependencies ... \u001b[?25ldone\n",
      "\u001b[?25h  Getting requirements to build wheel ... \u001b[?25ldone\n",
      "\u001b[?25h  Preparing metadata (pyproject.toml) ... \u001b[?25ldone\n",
      "\u001b[?25hRequirement already satisfied: beautifulsoup4>=4.11.1 in /Users/paesir/Desktop/llama-index/.venv/lib/python3.12/site-packages (from yfinance==0.2.55) (4.13.5)\n",
      "Requirement already satisfied: soupsieve>1.2 in /Users/paesir/Desktop/llama-index/.venv/lib/python3.12/site-packages (from beautifulsoup4>=4.11.1->yfinance==0.2.55) (2.8)\n",
      "Requirement already satisfied: typing-extensions>=4.0.0 in /Users/paesir/Desktop/llama-index/.venv/lib/python3.12/site-packages (from beautifulsoup4>=4.11.1->yfinance==0.2.55) (4.15.0)\n",
      "Requirement already satisfied: python-dateutil>=2.8.2 in /Users/paesir/Desktop/llama-index/.venv/lib/python3.12/site-packages (from pandas>=1.3.0->yfinance==0.2.55) (2.9.0.post0)\n",
      "Requirement already satisfied: tzdata>=2022.7 in /Users/paesir/Desktop/llama-index/.venv/lib/python3.12/site-packages (from pandas>=1.3.0->yfinance==0.2.55) (2025.2)\n",
      "Requirement already satisfied: six>=1.5 in /Users/paesir/Desktop/llama-index/.venv/lib/python3.12/site-packages (from python-dateutil>=2.8.2->pandas>=1.3.0->yfinance==0.2.55) (1.17.0)\n",
      "Requirement already satisfied: charset_normalizer<4,>=2 in /Users/paesir/Desktop/llama-index/.venv/lib/python3.12/site-packages (from requests>=2.31->yfinance==0.2.55) (3.4.3)\n",
      "Requirement already satisfied: idna<4,>=2.5 in /Users/paesir/Desktop/llama-index/.venv/lib/python3.12/site-packages (from requests>=2.31->yfinance==0.2.55) (3.10)\n",
      "Requirement already satisfied: urllib3<3,>=1.21.1 in /Users/paesir/Desktop/llama-index/.venv/lib/python3.12/site-packages (from requests>=2.31->yfinance==0.2.55) (2.5.0)\n",
      "Requirement already satisfied: certifi>=2017.4.17 in /Users/paesir/Desktop/llama-index/.venv/lib/python3.12/site-packages (from requests>=2.31->yfinance==0.2.55) (2025.8.3)\n",
      "Downloading yfinance-0.2.55-py2.py3-none-any.whl (109 kB)\n",
      "Downloading frozendict-2.4.6-py312-none-any.whl (16 kB)\n",
      "Building wheels for collected packages: multitasking, peewee\n",
      "  Building wheel for multitasking (pyproject.toml) ... \u001b[?25ldone\n",
      "\u001b[?25h  Created wheel for multitasking: filename=multitasking-0.0.12-py3-none-any.whl size=15636 sha256=457c6bb3a221e4403080a200a807a0d5d7e38784975590d7a45bab51ba658257\n",
      "  Stored in directory: /Users/paesir/Library/Caches/pip/wheels/cc/bd/6f/664d62c99327abeef7d86489e6631cbf45b56fbf7ef1d6ef00\n",
      "  Building wheel for peewee (pyproject.toml) ... \u001b[?25ldone\n",
      "\u001b[?25h  Created wheel for peewee: filename=peewee-3.18.2-cp312-cp312-macosx_10_13_universal2.whl size=438002 sha256=d739ce6bfb872b49f53aed3ae83fb9826b1f2a3b75037d866e2d2adbe085a086\n",
      "  Stored in directory: /Users/paesir/Library/Caches/pip/wheels/d1/df/a9/0202b051c65b11c992dd6db9f2babdd2c44ec7d35d511be5d3\n",
      "Successfully built multitasking peewee\n",
      "Installing collected packages: peewee, multitasking, frozendict, yfinance\n",
      "\u001b[2K   \u001b[90m━━━━━━━━━━━━━━━━━━━━━━━━━━━━━━━━━━━━━━━━\u001b[0m \u001b[32m4/4\u001b[0m [yfinance]\n",
      "\u001b[1A\u001b[2KSuccessfully installed frozendict-2.4.6 multitasking-0.0.12 peewee-3.18.2 yfinance-0.2.55\n"
     ]
    }
   ],
   "source": [
    "!pip install yfinance==0.2.55\n",
    "\n",
    "import yfinance as yf"
   ]
  },
  {
   "cell_type": "code",
   "execution_count": 30,
   "id": "b878d15f",
   "metadata": {},
   "outputs": [
    {
     "name": "stdout",
     "output_type": "stream",
     "text": [
      "0.2.55\n"
     ]
    }
   ],
   "source": [
    "#yfinance 버전 확인인\n",
    "print(yf.__version__)"
   ]
  },
  {
   "cell_type": "code",
   "execution_count": 31,
   "id": "dc21f69a",
   "metadata": {},
   "outputs": [],
   "source": [
    "# 미국 주식 최신 종가 호출 \n",
    "def get_stock_price_us(code):\n",
    "        ticker = yf.Ticker(f\"{code}\")\n",
    "        todays_data = ticker.history(period='1d')\n",
    "        return round(todays_data['Close'].iloc[0], 2)\n",
    "\n",
    "# 한국 주식 최신 종가 호출 \n",
    "def get_stock_price_Korea(code):\n",
    "        ticker = yf.Ticker(f\"{code}.KS\")\n",
    "        todays_data = ticker.history(period='1d')\n",
    "        return round(todays_data['Close'].iloc[0], 2)\n"
   ]
  },
  {
   "cell_type": "code",
   "execution_count": 45,
   "id": "6bd7db79",
   "metadata": {},
   "outputs": [
    {
     "name": "stdout",
     "output_type": "stream",
     "text": [
      "Requirement already satisfied: curl_cffi in /Users/paesir/Desktop/llama-index/.venv/lib/python3.12/site-packages (0.13.0)\n",
      "Requirement already satisfied: cffi>=1.12.0 in /Users/paesir/Desktop/llama-index/.venv/lib/python3.12/site-packages (from curl_cffi) (2.0.0)\n",
      "Requirement already satisfied: certifi>=2024.2.2 in /Users/paesir/Desktop/llama-index/.venv/lib/python3.12/site-packages (from curl_cffi) (2025.8.3)\n",
      "Requirement already satisfied: pycparser in /Users/paesir/Desktop/llama-index/.venv/lib/python3.12/site-packages (from cffi>=1.12.0->curl_cffi) (2.23)\n"
     ]
    }
   ],
   "source": [
    "\n",
    "## 'Encountered error: 'Too Many Requests. Rate limited. Try after a while.' 에러가 뜰 경우 함수를 아래와 같이 정의합니다\n",
    "!pip install curl_cffi\n",
    "from curl_cffi import requests\n",
    "\n",
    "\n",
    "# 미국 주식 최신 종가 호출 \n",
    "def get_stock_price_us(code):\n",
    "        session = requests.Session(impersonate=\"chrome\")\n",
    "        ticker = yf.Ticker(f\"{code}\", session=session)\n",
    "        todays_data = ticker.history(period='1d')\n",
    "        return round(todays_data['Close'].iloc[0], 2)\n",
    "\n",
    "# 한국 주식 최신 종가 호출 \n",
    "def get_stock_price_Korea(code):\n",
    "        session = requests.Session(impersonate=\"chrome\")\n",
    "        ticker = yf.Ticker(f\"{code}.KS\", session=session)\n",
    "        todays_data = ticker.history(period='1d')\n",
    "        return round(todays_data['Close'].iloc[0], 2)"
   ]
  },
  {
   "cell_type": "code",
   "execution_count": 46,
   "id": "fdbd3890",
   "metadata": {},
   "outputs": [],
   "source": [
    "# 도구 등록하기 \n",
    "stock_k=FunctionTool.from_defaults(fn=get_stock_price_Korea)\n",
    "stock_u=FunctionTool.from_defaults(fn=get_stock_price_us)\n"
   ]
  },
  {
   "cell_type": "code",
   "execution_count": 47,
   "id": "8c8eb691",
   "metadata": {},
   "outputs": [],
   "source": [
    "# 에이전트 만들고 쿼리 실행하기 \n",
    "agent_worker=ReActAgent(\n",
    "  name=\"my_agent\",\n",
    "  tools=[stock_k, stock_u], \n",
    "  llm=llm, \n",
    "  verbose=True,\n",
    "  allow_parallel_tool_calls=False\n",
    "  )"
   ]
  },
  {
   "cell_type": "code",
   "execution_count": 48,
   "id": "88acc277",
   "metadata": {},
   "outputs": [
    {
     "name": "stderr",
     "output_type": "stream",
     "text": [
      "Keyword arguments are not supported when 'run()' is invoked with the 'start_event' parameter. These keyword arguments will be ignored: {'stepwise': False}\n"
     ]
    },
    {
     "name": "stdout",
     "output_type": "stream",
     "text": [
      "Running step init_run\n",
      "Step init_run produced event AgentInput\n",
      "Running step setup_agent\n",
      "Step setup_agent produced event AgentSetup\n",
      "Running step run_agent_step\n",
      "Step run_agent_step produced event AgentOutput\n",
      "Running step parse_agent_output\n",
      "Step parse_agent_output produced no event\n",
      "Running step call_tool\n",
      "Step call_tool produced event ToolCallResult\n",
      "Running step aggregate_tool_results\n",
      "Step aggregate_tool_results produced event AgentInput\n",
      "Running step setup_agent\n",
      "Step setup_agent produced event AgentSetup\n",
      "Running step run_agent_step\n",
      "Step run_agent_step produced event AgentOutput\n",
      "Running step parse_agent_output\n",
      "Step parse_agent_output produced event StopEvent\n",
      "TESLA의 최신 종가는 347.79입니다.\n"
     ]
    }
   ],
   "source": [
    "response= await agent_worker.run(\"TESLA 최신 종가가 어떻게 돼?\")\n",
    "print(response)\n"
   ]
  },
  {
   "cell_type": "code",
   "execution_count": 49,
   "id": "ac79d18d",
   "metadata": {},
   "outputs": [
    {
     "name": "stderr",
     "output_type": "stream",
     "text": [
      "Keyword arguments are not supported when 'run()' is invoked with the 'start_event' parameter. These keyword arguments will be ignored: {'stepwise': False}\n"
     ]
    },
    {
     "name": "stdout",
     "output_type": "stream",
     "text": [
      "Running step init_run\n",
      "Step init_run produced event AgentInput\n",
      "Running step setup_agent\n",
      "Step setup_agent produced event AgentSetup\n",
      "Running step run_agent_step\n",
      "Step run_agent_step produced event AgentOutput\n",
      "Running step parse_agent_output\n",
      "Step parse_agent_output produced no event\n",
      "Running step call_tool\n",
      "Step call_tool produced event ToolCallResult\n",
      "Running step aggregate_tool_results\n",
      "Step aggregate_tool_results produced event AgentInput\n",
      "Running step setup_agent\n",
      "Step setup_agent produced event AgentSetup\n",
      "Running step run_agent_step\n",
      "Step run_agent_step produced event AgentOutput\n",
      "Running step parse_agent_output\n",
      "Step parse_agent_output produced event StopEvent\n",
      "삼성전자의 최신 종가는 73,400원입니다.\n"
     ]
    }
   ],
   "source": [
    "response= await agent_worker.run(\"삼성전자의 최신 종가가 어떻게 돼?\")\n",
    "print(response)\n"
   ]
  },
  {
   "cell_type": "markdown",
   "id": "8477c4dd",
   "metadata": {},
   "source": [
    "### 주식 최신 종가를 날짜 정보와 함께 알고 싶을 때 "
   ]
  },
  {
   "cell_type": "code",
   "execution_count": 61,
   "id": "9021b451",
   "metadata": {},
   "outputs": [],
   "source": [
    "def get_stock_price_us(code):\n",
    "    \"\"\"미국 주식의 최신 종가와 날짜를 조회합니다.\"\"\"\n",
    "    ticker = yf.Ticker(f\"{code}\")\n",
    "    todays_data = ticker.history(period='1d')\n",
    "    \n",
    "    if not todays_data.empty:\n",
    "        close_price = round(todays_data['Close'].iloc[0], 2)\n",
    "        close_date = todays_data.index[0].strftime('%Y-%m-%d')\n",
    "        return {\n",
    "            \"price\": close_price,\n",
    "            \"date\": close_date,\n",
    "            \"ticker\": code\n",
    "        }\n",
    "    else:\n",
    "        return {\"error\": \"데이터를 찾을 수 없습니다\"}\n",
    "\n",
    "def get_stock_price_Korea(code):\n",
    "    \"\"\"한국 주식의 최신 종가와 날짜를 조회합니다.\"\"\"\n",
    "    ticker = yf.Ticker(f\"{code}.KS\")\n",
    "    todays_data = ticker.history(period='1d')\n",
    "    \n",
    "    if not todays_data.empty:\n",
    "        close_price = round(todays_data['Close'].iloc[0], 2)\n",
    "        close_date = todays_data.index[0].strftime('%Y-%m-%d')\n",
    "        return {\n",
    "            \"price\": close_price,\n",
    "            \"date\": close_date,\n",
    "            \"ticker\": code\n",
    "        }\n",
    "    else:\n",
    "        return {\"error\": \"데이터를 찾을 수 없습니다\"}"
   ]
  },
  {
   "cell_type": "code",
   "execution_count": 62,
   "id": "b7652fcf",
   "metadata": {},
   "outputs": [],
   "source": [
    "stock_k=FunctionTool.from_defaults(fn=get_stock_price_Korea)\n",
    "stock_u=FunctionTool.from_defaults(fn=get_stock_price_us)"
   ]
  },
  {
   "cell_type": "code",
   "execution_count": 63,
   "id": "4a47a683",
   "metadata": {},
   "outputs": [],
   "source": [
    "agent_worker=ReActAgent(\n",
    "  name=\"my_agent\",\n",
    "  tools=[stock_k, stock_u], \n",
    "  llm=llm, \n",
    "  verbose=True,\n",
    "  allow_parallel_tool_calls=False\n",
    "  )"
   ]
  },
  {
   "cell_type": "code",
   "execution_count": 64,
   "id": "b8d85924",
   "metadata": {},
   "outputs": [
    {
     "name": "stderr",
     "output_type": "stream",
     "text": [
      "Keyword arguments are not supported when 'run()' is invoked with the 'start_event' parameter. These keyword arguments will be ignored: {'stepwise': False}\n"
     ]
    },
    {
     "name": "stdout",
     "output_type": "stream",
     "text": [
      "Running step init_run\n",
      "Step init_run produced event AgentInput\n",
      "Running step setup_agent\n",
      "Step setup_agent produced event AgentSetup\n",
      "Running step run_agent_step\n",
      "Step run_agent_step produced event AgentOutput\n",
      "Running step parse_agent_output\n",
      "Step parse_agent_output produced no event\n",
      "Running step call_tool\n",
      "Step call_tool produced event ToolCallResult\n",
      "Running step aggregate_tool_results\n",
      "Step aggregate_tool_results produced event AgentInput\n",
      "Running step setup_agent\n",
      "Step setup_agent produced event AgentSetup\n",
      "Running step run_agent_step\n",
      "Step run_agent_step produced event AgentOutput\n",
      "Running step parse_agent_output\n",
      "Step parse_agent_output produced event StopEvent\n",
      "TESLA의 최신 종가는 347.79달러이며, 날짜는 2025년 9월 10일입니다.\n"
     ]
    }
   ],
   "source": [
    "response= await agent_worker.run(\"TESLA 최신 종가가 어떻게 돼?\")\n",
    "print(response)"
   ]
  },
  {
   "cell_type": "code",
   "execution_count": 65,
   "id": "b75cebee",
   "metadata": {},
   "outputs": [
    {
     "name": "stderr",
     "output_type": "stream",
     "text": [
      "Keyword arguments are not supported when 'run()' is invoked with the 'start_event' parameter. These keyword arguments will be ignored: {'stepwise': False}\n"
     ]
    },
    {
     "name": "stdout",
     "output_type": "stream",
     "text": [
      "Running step init_run\n",
      "Step init_run produced event AgentInput\n",
      "Running step setup_agent\n",
      "Step setup_agent produced event AgentSetup\n",
      "Running step run_agent_step\n",
      "Step run_agent_step produced event AgentOutput\n",
      "Running step parse_agent_output\n",
      "Step parse_agent_output produced no event\n",
      "Running step call_tool\n",
      "Step call_tool produced event ToolCallResult\n",
      "Running step aggregate_tool_results\n",
      "Step aggregate_tool_results produced event AgentInput\n",
      "Running step setup_agent\n",
      "Step setup_agent produced event AgentSetup\n",
      "Running step run_agent_step\n",
      "Step run_agent_step produced event AgentOutput\n",
      "Running step parse_agent_output\n",
      "Step parse_agent_output produced event StopEvent\n",
      "삼성전자의 최신 종가는 73,400원이며, 날짜는 2025년 9월 11일입니다.\n"
     ]
    }
   ],
   "source": [
    "response= await agent_worker.run(\"삼성전자 최신 종가가 어떻게 돼?\")\n",
    "print(response)"
   ]
  },
  {
   "cell_type": "code",
   "execution_count": null,
   "id": "d0b2a95c",
   "metadata": {},
   "outputs": [],
   "source": []
  },
  {
   "cell_type": "markdown",
   "id": "ec6426d3",
   "metadata": {},
   "source": [
    "## 펑션 콜링 실습 - Context-Augmented Function Calling Agent"
   ]
  },
  {
   "cell_type": "code",
   "execution_count": 66,
   "id": "4a43ae35",
   "metadata": {},
   "outputs": [
    {
     "name": "stdout",
     "output_type": "stream",
     "text": [
      "완료: [삼성전자]사업보고서_2022.pdf 다운로드 완료\n",
      "완료: [삼성전자]사업보고서_2023.pdf 다운로드 완료\n",
      "완료: [삼성전자]사업보고서_2024.pdf 다운로드 완료\n"
     ]
    }
   ],
   "source": [
    "#데이터 다운로드 \n",
    "import os\n",
    "import urllib.parse\n",
    "import requests\n",
    "import re\n",
    "\n",
    "urls=[\n",
    "    \"https://raw.githubusercontent.com/llama-index-tutorial/llama-index-tutorial/main/ch08/data/%5B%EC%82%BC%EC%84%B1%EC%A0%84%EC%9E%90%5D%EC%82%AC%EC%97%85%EB%B3%B4%EA%B3%A0%EC%84%9C_2022.pdf\",\n",
    "    \"https://raw.githubusercontent.com/llama-index-tutorial/llama-index-tutorial/main/ch08/data/%5B%EC%82%BC%EC%84%B1%EC%A0%84%EC%9E%90%5D%EC%82%AC%EC%97%85%EB%B3%B4%EA%B3%A0%EC%84%9C_2023.pdf\",\n",
    "    \"https://raw.githubusercontent.com/llama-index-tutorial/llama-index-tutorial/main/ch08/data/%5B%EC%82%BC%EC%84%B1%EC%A0%84%EC%9E%90%5D%EC%82%AC%EC%97%85%EB%B3%B4%EA%B3%A0%EC%84%9C_2024.pdf\"\n",
    "    ]\n",
    "\n",
    "# 각 파일 다운로드\n",
    "for url in urls:\n",
    "    encoded_filename = url.split(\"/\")[-1]  # URL에서 파일명 추출\n",
    "    decoded_filename = urllib.parse.unquote(encoded_filename) # 한글 파일명 복원\n",
    "    response = requests.get(url)\n",
    "    if response.status_code == 200:\n",
    "# 임시 파일명으로 저장\n",
    "        temp_filename = \"temp_download_file\" + os.path.splitext(decoded_filename)[1] \n",
    "        with open(temp_filename, 'wb') as f:\n",
    "            f.write(response.content)            \n",
    "        os.rename(temp_filename, decoded_filename) # 파일명 변경\n",
    "        print(f\"완료: {decoded_filename} 다운로드 완료\")\n",
    "    else:\n",
    "        print(f\"오류: {url} 다운로드 실패 (상태 코드: {response.status_code})\\n\")\n"
   ]
  },
  {
   "cell_type": "code",
   "execution_count": 68,
   "id": "a30be0f6",
   "metadata": {},
   "outputs": [],
   "source": [
    "from llama_index.llms.openai import OpenAI\n",
    "from llama_index.embeddings.openai import OpenAIEmbedding\n",
    "from llama_index.core.settings import Settings\n",
    "\n",
    "Settings.llm = OpenAI(model=\"gpt-4o\", api_key=api_key)\n",
    "Settings.embed_model = OpenAIEmbedding(model=\"text-embedding-3-small\", api_key=api_key)"
   ]
  },
  {
   "cell_type": "code",
   "execution_count": 69,
   "id": "e72c1990",
   "metadata": {},
   "outputs": [],
   "source": [
    "\n",
    "from llama_index.core import (\n",
    "    SimpleDirectoryReader,\n",
    "    VectorStoreIndex  \n",
    ")\n",
    "from llama_index.core.tools import QueryEngineTool"
   ]
  },
  {
   "cell_type": "code",
   "execution_count": 70,
   "id": "bfeac230",
   "metadata": {},
   "outputs": [],
   "source": [
    "# load data\n",
    "S2024_docs = SimpleDirectoryReader(\n",
    "    input_files=[\"./data/[삼성전자]사업보고서_2024.pdf\"]\n",
    "    ).load_data()\n",
    "S2023_docs = SimpleDirectoryReader(\n",
    "    input_files=[\"./data/[삼성전자]사업보고서_2023.pdf\"]\n",
    "    ).load_data()\n",
    "S2022_docs = SimpleDirectoryReader(\n",
    "    input_files=[\"./data/[삼성전자]사업보고서_2022.pdf\"]\n",
    "    ).load_data()\n",
    "\n",
    "# build index\n",
    "S2024_index = VectorStoreIndex.from_documents(S2024_docs)\n",
    "S2023_index = VectorStoreIndex.from_documents(S2023_docs)\n",
    "S2022_index = VectorStoreIndex.from_documents(S2022_docs)\n",
    "    "
   ]
  },
  {
   "cell_type": "code",
   "execution_count": 72,
   "id": "c7edb829",
   "metadata": {},
   "outputs": [],
   "source": [
    "S2024_engine = S2024_index.as_query_engine(similarity_top_k=3)\n",
    "S2023_engine = S2023_index.as_query_engine(similarity_top_k=3)\n",
    "S2022_engine = S2022_index.as_query_engine(similarity_top_k=3)"
   ]
  },
  {
   "cell_type": "code",
   "execution_count": 73,
   "id": "7894fb2c",
   "metadata": {},
   "outputs": [],
   "source": [
    "query_engine_tools = [\n",
    "    QueryEngineTool.from_defaults(\n",
    "        query_engine=S2024_engine,\n",
    "        name=\"samsung_2024\",\n",
    "        description=(\n",
    "            \"삼성전자의 2024년 재무상태에 대해 정보 제공해 주세요.\"\n",
    "            \"도구에 입력할 때 자세한 일반 텍스트 질문을 사용합니다.\"\n",
    "            \"실적 분석할 때 보고서를 충분히 검토한 후 답변해 주세요\"\n",
    "        ),\n",
    "    ),\n",
    "    QueryEngineTool.from_defaults(\n",
    "        query_engine=S2023_engine,\n",
    "        name=\"samsung_2023\",\n",
    "        description=(\n",
    "             \"삼성전자의 2023년 재무상태에 대해 정보 제공해 주세요.\"\n",
    "            \"도구에 입력할 때 자세한 일반 텍스트 질문을 사용합니다.\"\n",
    "            \"실적 분석할 때 보고서를 충분히 검토한 후 답변해 주세요\"\n",
    "        ),\n",
    "    ),\n",
    "    QueryEngineTool.from_defaults(\n",
    "        query_engine=S2022_engine,\n",
    "        name=\"samsung_2022\",\n",
    "        description=(\n",
    "             \"삼성전자의 2022년 재무상태에 대해 정보 제공해 주세요.\"\n",
    "            \"도구에 입력할 때 자세한 일반 텍스트 질문을 사용합니다.\"\n",
    "            \"실적 분석할 때 보고서를 충분히 검토한 후 답변해 주세요\"\n",
    "        ),\n",
    "    ),\n",
    "]"
   ]
  },
  {
   "cell_type": "code",
   "execution_count": 77,
   "id": "84d36977",
   "metadata": {},
   "outputs": [],
   "source": [
    "# agent 생성\n",
    "from llama_index.core.agent import ReActAgent\n",
    "\n",
    "agent = ReActAgent(\n",
    "    name=\"my_agent\",\n",
    "    tools=query_engine_tools,  # tools 대신 query_engine_tools 사용\n",
    "    llm=OpenAI(model=\"gpt-4o-mini\", api_key=api_key),\n",
    "    verbose=True,\n",
    "    )\n"
   ]
  },
  {
   "cell_type": "code",
   "execution_count": 79,
   "id": "a488d38c",
   "metadata": {},
   "outputs": [
    {
     "name": "stderr",
     "output_type": "stream",
     "text": [
      "Keyword arguments are not supported when 'run()' is invoked with the 'start_event' parameter. These keyword arguments will be ignored: {'stepwise': False}\n"
     ]
    },
    {
     "name": "stdout",
     "output_type": "stream",
     "text": [
      "Running step init_run\n",
      "Step init_run produced event AgentInput\n",
      "Running step setup_agent\n",
      "Step setup_agent produced event AgentSetup\n",
      "Running step run_agent_step\n",
      "Step run_agent_step produced event AgentOutput\n",
      "Running step parse_agent_output\n",
      "Step parse_agent_output produced no event\n",
      "Running step call_tool\n",
      "Step call_tool produced event ToolCallResult\n",
      "Running step aggregate_tool_results\n",
      "Step aggregate_tool_results produced event AgentInput\n",
      "Running step setup_agent\n",
      "Step setup_agent produced event AgentSetup\n",
      "Running step run_agent_step\n",
      "Step run_agent_step produced event AgentOutput\n",
      "Running step parse_agent_output\n",
      "Step parse_agent_output produced no event\n",
      "Running step call_tool\n",
      "Step call_tool produced event ToolCallResult\n",
      "Running step aggregate_tool_results\n",
      "Step aggregate_tool_results produced event AgentInput\n",
      "Running step setup_agent\n",
      "Step setup_agent produced event AgentSetup\n",
      "Running step run_agent_step\n",
      "Step run_agent_step produced event AgentOutput\n",
      "Running step parse_agent_output\n",
      "Step parse_agent_output produced no event\n",
      "Running step call_tool\n",
      "Step call_tool produced event ToolCallResult\n",
      "Running step aggregate_tool_results\n",
      "Step aggregate_tool_results produced event AgentInput\n",
      "Running step setup_agent\n",
      "Step setup_agent produced event AgentSetup\n",
      "Running step run_agent_step\n",
      "Step run_agent_step produced event AgentOutput\n",
      "Running step parse_agent_output\n",
      "Step parse_agent_output produced no event\n",
      "Running step call_tool\n",
      "Step call_tool produced event ToolCallResult\n",
      "Running step aggregate_tool_results\n",
      "Step aggregate_tool_results produced event AgentInput\n",
      "Running step setup_agent\n",
      "Step setup_agent produced event AgentSetup\n",
      "Running step run_agent_step\n",
      "Step run_agent_step produced event AgentOutput\n",
      "Running step parse_agent_output\n",
      "Step parse_agent_output produced event StopEvent\n",
      "삼성전자의 연결기준 매출액은 다음과 같습니다:\n",
      "- 2022년: 302조 2,314억 원\n",
      "- 2023년: 258조 9,355억 원\n",
      "- 2024년: 301조 원\n"
     ]
    }
   ],
   "source": [
    "response = await agent.run(\n",
    "    \"삼성전자의 2022년, 2023년, 2024년 연결기준 매출액을 각각 알려주세요. \"\n",
    "    \"각 연도의 매출액을 원화 단위로 제시해 주세요.\"\n",
    ")\n",
    "print(response)"
   ]
  },
  {
   "cell_type": "code",
   "execution_count": 80,
   "id": "f1075273",
   "metadata": {},
   "outputs": [
    {
     "name": "stderr",
     "output_type": "stream",
     "text": [
      "Keyword arguments are not supported when 'run()' is invoked with the 'start_event' parameter. These keyword arguments will be ignored: {'stepwise': False}\n"
     ]
    },
    {
     "name": "stdout",
     "output_type": "stream",
     "text": [
      "Running step init_run\n",
      "Step init_run produced event AgentInput\n",
      "Running step setup_agent\n",
      "Step setup_agent produced event AgentSetup\n",
      "Running step run_agent_step\n",
      "Step run_agent_step produced event AgentOutput\n",
      "Running step parse_agent_output\n",
      "Step parse_agent_output produced no event\n",
      "Running step call_tool\n",
      "Step call_tool produced event ToolCallResult\n",
      "Running step aggregate_tool_results\n",
      "Step aggregate_tool_results produced event AgentInput\n",
      "Running step setup_agent\n",
      "Step setup_agent produced event AgentSetup\n",
      "Running step run_agent_step\n",
      "Step run_agent_step produced event AgentOutput\n",
      "Running step parse_agent_output\n",
      "Step parse_agent_output produced no event\n",
      "Running step call_tool\n",
      "Step call_tool produced event ToolCallResult\n",
      "Running step aggregate_tool_results\n",
      "Step aggregate_tool_results produced event AgentInput\n",
      "Running step setup_agent\n",
      "Step setup_agent produced event AgentSetup\n",
      "Running step run_agent_step\n",
      "Step run_agent_step produced event AgentOutput\n",
      "Running step parse_agent_output\n",
      "Step parse_agent_output produced no event\n",
      "Running step call_tool\n",
      "Step call_tool produced event ToolCallResult\n",
      "Running step aggregate_tool_results\n",
      "Step aggregate_tool_results produced event AgentInput\n",
      "Running step setup_agent\n",
      "Step setup_agent produced event AgentSetup\n",
      "Running step run_agent_step\n",
      "Step run_agent_step produced event AgentOutput\n",
      "Running step parse_agent_output\n",
      "Step parse_agent_output produced no event\n",
      "Running step call_tool\n",
      "Step call_tool produced event ToolCallResult\n",
      "Running step aggregate_tool_results\n",
      "Step aggregate_tool_results produced event AgentInput\n",
      "Running step setup_agent\n",
      "Step setup_agent produced event AgentSetup\n",
      "Running step run_agent_step\n",
      "Step run_agent_step produced event AgentOutput\n",
      "Running step parse_agent_output\n",
      "Step parse_agent_output produced no event\n",
      "Running step call_tool\n",
      "Step call_tool produced event ToolCallResult\n",
      "Running step aggregate_tool_results\n",
      "Step aggregate_tool_results produced event AgentInput\n",
      "Running step setup_agent\n",
      "Step setup_agent produced event AgentSetup\n",
      "Running step run_agent_step\n",
      "Step run_agent_step produced event AgentOutput\n",
      "Running step parse_agent_output\n",
      "Step parse_agent_output produced event StopEvent\n",
      "삼성전자의 2022년, 2023년, 2024년 매출액과 영업이익은 다음과 같습니다:\n",
      "- **2022년**: 매출액 302조 2,314억 원, 영업이익 51조 6,338억 5,600만 원\n",
      "- **2023년**: 매출액 258조 9,355억 원, 영업이익 6조 5,696억 원\n",
      "- **2024년**: 매출액 301조 원, 영업이익 33조 원\n",
      "\n",
      "2023년 매출액이 줄어든 이유는 글로벌 경제 상황, 공급망 문제, 시장 경쟁 심화 등이 있으며, 2024년에 회복된 이유는 경제 회복, 공급망 안정화, 신제품 출시 등이 있을 것으로 분석됩니다.\n"
     ]
    }
   ],
   "source": [
    "response= await agent.run(\"삼성전자의 2022년, 2023년, 2024년 매출액과 영업이익을 알려줘. 그리고 2023년에는 전년대비 줄어든 매출액이 2024년에는 다시 회복된 이유를 뭐라고 분석하고 있는지 찾아줘\")\n",
    "print(response)"
   ]
  },
  {
   "cell_type": "code",
   "execution_count": 81,
   "id": "f462405e",
   "metadata": {},
   "outputs": [
    {
     "name": "stderr",
     "output_type": "stream",
     "text": [
      "Keyword arguments are not supported when 'run()' is invoked with the 'start_event' parameter. These keyword arguments will be ignored: {'stepwise': False}\n"
     ]
    },
    {
     "name": "stdout",
     "output_type": "stream",
     "text": [
      "Running step init_run\n",
      "Step init_run produced event AgentInput\n",
      "Running step setup_agent\n",
      "Step setup_agent produced event AgentSetup\n",
      "Running step run_agent_step\n",
      "Step run_agent_step produced event AgentOutput\n",
      "Running step parse_agent_output\n",
      "Step parse_agent_output produced no event\n",
      "Running step call_tool\n",
      "Step call_tool produced event ToolCallResult\n",
      "Running step aggregate_tool_results\n",
      "Step aggregate_tool_results produced event AgentInput\n",
      "Running step setup_agent\n",
      "Step setup_agent produced event AgentSetup\n",
      "Running step run_agent_step\n",
      "Step run_agent_step produced event AgentOutput\n",
      "Running step parse_agent_output\n",
      "Step parse_agent_output produced no event\n",
      "Running step call_tool\n",
      "Step call_tool produced event ToolCallResult\n",
      "Running step aggregate_tool_results\n",
      "Step aggregate_tool_results produced event AgentInput\n",
      "Running step setup_agent\n",
      "Step setup_agent produced event AgentSetup\n",
      "Running step run_agent_step\n",
      "Step run_agent_step produced event AgentOutput\n",
      "Running step parse_agent_output\n",
      "Step parse_agent_output produced event StopEvent\n",
      "삼성전자의 2023년 매출액은 전년 대비 14.3% 감소했습니다. 이 감소는 글로벌 통화 긴축, 지정학적 이슈, 경기 둔화 등으로 인한 불확실성과 경영 여건 악화가 주요 원인으로 작용했습니다. 특히, 메모리 제품의 평균 판매가격이 약 45% 하락한 점이 DS 부문의 매출 감소에 큰 영향을 미쳤습니다. \n",
      "\n",
      "반면, 2024년에는 매출이 회복되었습니다. DS 부문에서의 매출이 66.8% 증가한 것이 주요 원인으로, 이는 DRAM 및 NAND Flash 등 고부가가치 제품의 수요 증가에 적극적으로 대응한 결과입니다. DX 부문에서도 AI 기술을 접목한 새로운 제품 출시로 2.9%의 매출 증가가 있었습니다. 이러한 요인들이 복합적으로 작용하여 2024년 삼성전자의 매출액이 회복된 것으로 분석됩니다.\n"
     ]
    }
   ],
   "source": [
    "response=await agent.run(\"삼성전자의 2023년 매출액이 2022년에 비해 많이 줄었는데, 2024년에는 다시 회복됐어. 이유를 뭐라고 분석하고 있어? 보고서를 충분히 검토하고 답변해 줘\")\n",
    "print(response)"
   ]
  },
  {
   "cell_type": "code",
   "execution_count": null,
   "id": "1dd04bee",
   "metadata": {},
   "outputs": [],
   "source": []
  },
  {
   "cell_type": "code",
   "execution_count": null,
   "id": "28fe3a8e",
   "metadata": {},
   "outputs": [],
   "source": []
  },
  {
   "cell_type": "code",
   "execution_count": null,
   "id": "315f6d85",
   "metadata": {},
   "outputs": [],
   "source": []
  }
 ],
 "metadata": {
  "kernelspec": {
   "display_name": ".venv",
   "language": "python",
   "name": "python3"
  },
  "language_info": {
   "codemirror_mode": {
    "name": "ipython",
    "version": 3
   },
   "file_extension": ".py",
   "mimetype": "text/x-python",
   "name": "python",
   "nbconvert_exporter": "python",
   "pygments_lexer": "ipython3",
   "version": "3.12.8"
  }
 },
 "nbformat": 4,
 "nbformat_minor": 5
}
