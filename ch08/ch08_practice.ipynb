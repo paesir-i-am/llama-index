{
 "cells": [
  {
   "cell_type": "markdown",
   "id": "5dbcdf03",
   "metadata": {},
   "source": [
    "## 펑션 콜링(function calling) 작동 방식 이해하기 "
   ]
  },
  {
   "cell_type": "code",
   "execution_count": 26,
   "id": "0c968537",
   "metadata": {},
   "outputs": [],
   "source": [
    "api_key = \"your-api-key-here\""
   ]
  },
  {
   "cell_type": "code",
   "execution_count": 2,
   "id": "37f1d4c5",
   "metadata": {},
   "outputs": [],
   "source": [
    "from llama_index.llms.openai import OpenAI\n",
    "from llama_index.core.agent.workflow import ReActAgent\n",
    "from llama_index.core.tools import FunctionTool\n",
    "import numpy as np\n",
    "\n",
    "llm=OpenAI(model=\"gpt-4o-mini\", api_key=api_key)"
   ]
  },
  {
   "cell_type": "code",
   "execution_count": 3,
   "id": "d6ad7174",
   "metadata": {},
   "outputs": [],
   "source": [
    "def add(a,b):\n",
    "    \"\"\" 주어진 두 숫자를 더하고 결과를 출력합니다 \"\"\"\n",
    "    return a+b\n",
    "\n",
    "\n",
    "def mul(a,b):\n",
    "    \"\"\" 주어진 두 숫자를 곱하고 결과를 출력합니다 \"\"\"\n",
    "    return a*b\n",
    "\n",
    "def div(a,b):\n",
    "    \"\"\" 주어진 두 숫자 중 첫번 째 숫자를 두번 째 숫자로 나누고 결과를 출력합니다 \"\"\"\n",
    "    return a/b\n"
   ]
  },
  {
   "cell_type": "code",
   "execution_count": 4,
   "id": "3d81773a",
   "metadata": {},
   "outputs": [],
   "source": [
    "at=FunctionTool.from_defaults(fn=add)\n",
    "mt=FunctionTool.from_defaults(fn=mul)\n",
    "dt=FunctionTool.from_defaults(fn=div)"
   ]
  },
  {
   "cell_type": "code",
   "execution_count": 5,
   "id": "1952cdad",
   "metadata": {},
   "outputs": [],
   "source": [
    "agent_worker=ReActAgent(\n",
    "                      tools=[at,mt,dt],\n",
    "                      llm=llm,\n",
    "                      verbose=False\n",
    "                      )\n"
   ]
  },
  {
   "cell_type": "code",
   "execution_count": 6,
   "id": "9288b7b8",
   "metadata": {},
   "outputs": [
    {
     "name": "stdout",
     "output_type": "stream",
     "text": [
      "(77 * 2 + 2)를 78로 나눈 값은 2.0입니다.\n"
     ]
    }
   ],
   "source": [
    "response= await agent_worker.run(\"(77*2+2)를 78로 나눈 값을 계산해 줘\")\n",
    "print(response)"
   ]
  },
  {
   "cell_type": "markdown",
   "id": "c5765cff",
   "metadata": {},
   "source": [
    "## 펑션 콜링 실습 -외부 API를 활용하는 Function Calling Agent\n",
    "\n",
    "기존 FunctionCalling Agent가 더 이상 지원을 하지않고 삭제되어 이후 코드는 ReAct Agent 코드로 진행합니다."
   ]
  },
  {
   "cell_type": "code",
   "execution_count": 7,
   "id": "b6ef2438",
   "metadata": {},
   "outputs": [
    {
     "name": "stdout",
     "output_type": "stream",
     "text": [
      "Requirement already satisfied: pandas-datareader in /Users/paesir/Desktop/git/llama-index/.venv/lib/python3.12/site-packages (0.10.0)\n",
      "Requirement already satisfied: llama-index in /Users/paesir/Desktop/git/llama-index/.venv/lib/python3.12/site-packages (0.12.35)\n",
      "Requirement already satisfied: lxml in /Users/paesir/Desktop/git/llama-index/.venv/lib/python3.12/site-packages (from pandas-datareader) (6.0.1)\n",
      "Requirement already satisfied: pandas>=0.23 in /Users/paesir/Desktop/git/llama-index/.venv/lib/python3.12/site-packages (from pandas-datareader) (2.2.3)\n",
      "Requirement already satisfied: requests>=2.19.0 in /Users/paesir/Desktop/git/llama-index/.venv/lib/python3.12/site-packages (from pandas-datareader) (2.32.5)\n",
      "Requirement already satisfied: llama-index-agent-openai<0.5,>=0.4.0 in /Users/paesir/Desktop/git/llama-index/.venv/lib/python3.12/site-packages (from llama-index) (0.4.8)\n",
      "Requirement already satisfied: llama-index-cli<0.5,>=0.4.1 in /Users/paesir/Desktop/git/llama-index/.venv/lib/python3.12/site-packages (from llama-index) (0.4.1)\n",
      "Requirement already satisfied: llama-index-core<0.13,>=0.12.35 in /Users/paesir/Desktop/git/llama-index/.venv/lib/python3.12/site-packages (from llama-index) (0.12.52.post1)\n",
      "Requirement already satisfied: llama-index-embeddings-openai<0.4,>=0.3.0 in /Users/paesir/Desktop/git/llama-index/.venv/lib/python3.12/site-packages (from llama-index) (0.3.1)\n",
      "Requirement already satisfied: llama-index-indices-managed-llama-cloud>=0.4.0 in /Users/paesir/Desktop/git/llama-index/.venv/lib/python3.12/site-packages (from llama-index) (0.8.0)\n",
      "Requirement already satisfied: llama-index-llms-openai<0.4,>=0.3.0 in /Users/paesir/Desktop/git/llama-index/.venv/lib/python3.12/site-packages (from llama-index) (0.3.44)\n",
      "Requirement already satisfied: llama-index-multi-modal-llms-openai<0.5,>=0.4.0 in /Users/paesir/Desktop/git/llama-index/.venv/lib/python3.12/site-packages (from llama-index) (0.4.3)\n",
      "Requirement already satisfied: llama-index-program-openai<0.4,>=0.3.0 in /Users/paesir/Desktop/git/llama-index/.venv/lib/python3.12/site-packages (from llama-index) (0.3.1)\n",
      "Requirement already satisfied: llama-index-question-gen-openai<0.4,>=0.3.0 in /Users/paesir/Desktop/git/llama-index/.venv/lib/python3.12/site-packages (from llama-index) (0.3.0)\n",
      "Requirement already satisfied: llama-index-readers-file<0.5,>=0.4.0 in /Users/paesir/Desktop/git/llama-index/.venv/lib/python3.12/site-packages (from llama-index) (0.4.11)\n",
      "Requirement already satisfied: llama-index-readers-llama-parse>=0.4.0 in /Users/paesir/Desktop/git/llama-index/.venv/lib/python3.12/site-packages (from llama-index) (0.4.0)\n",
      "Requirement already satisfied: nltk>3.8.1 in /Users/paesir/Desktop/git/llama-index/.venv/lib/python3.12/site-packages (from llama-index) (3.9.1)\n",
      "Requirement already satisfied: openai>=1.14.0 in /Users/paesir/Desktop/git/llama-index/.venv/lib/python3.12/site-packages (from llama-index-agent-openai<0.5,>=0.4.0->llama-index) (1.107.2)\n",
      "Requirement already satisfied: aiohttp<4,>=3.8.6 in /Users/paesir/Desktop/git/llama-index/.venv/lib/python3.12/site-packages (from llama-index-core<0.13,>=0.12.35->llama-index) (3.12.15)\n",
      "Requirement already satisfied: aiosqlite in /Users/paesir/Desktop/git/llama-index/.venv/lib/python3.12/site-packages (from llama-index-core<0.13,>=0.12.35->llama-index) (0.21.0)\n",
      "Requirement already satisfied: banks<3,>=2.2.0 in /Users/paesir/Desktop/git/llama-index/.venv/lib/python3.12/site-packages (from llama-index-core<0.13,>=0.12.35->llama-index) (2.2.0)\n",
      "Requirement already satisfied: dataclasses-json in /Users/paesir/Desktop/git/llama-index/.venv/lib/python3.12/site-packages (from llama-index-core<0.13,>=0.12.35->llama-index) (0.6.7)\n",
      "Requirement already satisfied: deprecated>=1.2.9.3 in /Users/paesir/Desktop/git/llama-index/.venv/lib/python3.12/site-packages (from llama-index-core<0.13,>=0.12.35->llama-index) (1.2.18)\n",
      "Requirement already satisfied: dirtyjson<2,>=1.0.8 in /Users/paesir/Desktop/git/llama-index/.venv/lib/python3.12/site-packages (from llama-index-core<0.13,>=0.12.35->llama-index) (1.0.8)\n",
      "Requirement already satisfied: filetype<2,>=1.2.0 in /Users/paesir/Desktop/git/llama-index/.venv/lib/python3.12/site-packages (from llama-index-core<0.13,>=0.12.35->llama-index) (1.2.0)\n",
      "Requirement already satisfied: fsspec>=2023.5.0 in /Users/paesir/Desktop/git/llama-index/.venv/lib/python3.12/site-packages (from llama-index-core<0.13,>=0.12.35->llama-index) (2025.9.0)\n",
      "Requirement already satisfied: httpx in /Users/paesir/Desktop/git/llama-index/.venv/lib/python3.12/site-packages (from llama-index-core<0.13,>=0.12.35->llama-index) (0.28.1)\n",
      "Requirement already satisfied: llama-index-workflows<2,>=1.0.1 in /Users/paesir/Desktop/git/llama-index/.venv/lib/python3.12/site-packages (from llama-index-core<0.13,>=0.12.35->llama-index) (1.3.0)\n",
      "Requirement already satisfied: nest-asyncio<2,>=1.5.8 in /Users/paesir/Desktop/git/llama-index/.venv/lib/python3.12/site-packages (from llama-index-core<0.13,>=0.12.35->llama-index) (1.6.0)\n",
      "Requirement already satisfied: networkx>=3.0 in /Users/paesir/Desktop/git/llama-index/.venv/lib/python3.12/site-packages (from llama-index-core<0.13,>=0.12.35->llama-index) (3.5)\n",
      "Requirement already satisfied: numpy in /Users/paesir/Desktop/git/llama-index/.venv/lib/python3.12/site-packages (from llama-index-core<0.13,>=0.12.35->llama-index) (1.26.4)\n",
      "Requirement already satisfied: pillow>=9.0.0 in /Users/paesir/Desktop/git/llama-index/.venv/lib/python3.12/site-packages (from llama-index-core<0.13,>=0.12.35->llama-index) (11.3.0)\n",
      "Requirement already satisfied: platformdirs in /Users/paesir/Desktop/git/llama-index/.venv/lib/python3.12/site-packages (from llama-index-core<0.13,>=0.12.35->llama-index) (4.4.0)\n",
      "Requirement already satisfied: pydantic>=2.8.0 in /Users/paesir/Desktop/git/llama-index/.venv/lib/python3.12/site-packages (from llama-index-core<0.13,>=0.12.35->llama-index) (2.11.8)\n",
      "Requirement already satisfied: pyyaml>=6.0.1 in /Users/paesir/Desktop/git/llama-index/.venv/lib/python3.12/site-packages (from llama-index-core<0.13,>=0.12.35->llama-index) (6.0.2)\n",
      "Requirement already satisfied: setuptools>=80.9.0 in /Users/paesir/Desktop/git/llama-index/.venv/lib/python3.12/site-packages (from llama-index-core<0.13,>=0.12.35->llama-index) (80.9.0)\n",
      "Requirement already satisfied: sqlalchemy>=1.4.49 in /Users/paesir/Desktop/git/llama-index/.venv/lib/python3.12/site-packages (from sqlalchemy[asyncio]>=1.4.49->llama-index-core<0.13,>=0.12.35->llama-index) (2.0.43)\n",
      "Requirement already satisfied: tenacity!=8.4.0,<10.0.0,>=8.2.0 in /Users/paesir/Desktop/git/llama-index/.venv/lib/python3.12/site-packages (from llama-index-core<0.13,>=0.12.35->llama-index) (8.5.0)\n",
      "Requirement already satisfied: tiktoken>=0.7.0 in /Users/paesir/Desktop/git/llama-index/.venv/lib/python3.12/site-packages (from llama-index-core<0.13,>=0.12.35->llama-index) (0.11.0)\n",
      "Requirement already satisfied: tqdm<5,>=4.66.1 in /Users/paesir/Desktop/git/llama-index/.venv/lib/python3.12/site-packages (from llama-index-core<0.13,>=0.12.35->llama-index) (4.67.1)\n",
      "Requirement already satisfied: typing-extensions>=4.5.0 in /Users/paesir/Desktop/git/llama-index/.venv/lib/python3.12/site-packages (from llama-index-core<0.13,>=0.12.35->llama-index) (4.15.0)\n",
      "Requirement already satisfied: typing-inspect>=0.8.0 in /Users/paesir/Desktop/git/llama-index/.venv/lib/python3.12/site-packages (from llama-index-core<0.13,>=0.12.35->llama-index) (0.9.0)\n",
      "Requirement already satisfied: wrapt in /Users/paesir/Desktop/git/llama-index/.venv/lib/python3.12/site-packages (from llama-index-core<0.13,>=0.12.35->llama-index) (1.17.3)\n",
      "Requirement already satisfied: aiohappyeyeballs>=2.5.0 in /Users/paesir/Desktop/git/llama-index/.venv/lib/python3.12/site-packages (from aiohttp<4,>=3.8.6->llama-index-core<0.13,>=0.12.35->llama-index) (2.6.1)\n",
      "Requirement already satisfied: aiosignal>=1.4.0 in /Users/paesir/Desktop/git/llama-index/.venv/lib/python3.12/site-packages (from aiohttp<4,>=3.8.6->llama-index-core<0.13,>=0.12.35->llama-index) (1.4.0)\n",
      "Requirement already satisfied: attrs>=17.3.0 in /Users/paesir/Desktop/git/llama-index/.venv/lib/python3.12/site-packages (from aiohttp<4,>=3.8.6->llama-index-core<0.13,>=0.12.35->llama-index) (25.3.0)\n",
      "Requirement already satisfied: frozenlist>=1.1.1 in /Users/paesir/Desktop/git/llama-index/.venv/lib/python3.12/site-packages (from aiohttp<4,>=3.8.6->llama-index-core<0.13,>=0.12.35->llama-index) (1.7.0)\n",
      "Requirement already satisfied: multidict<7.0,>=4.5 in /Users/paesir/Desktop/git/llama-index/.venv/lib/python3.12/site-packages (from aiohttp<4,>=3.8.6->llama-index-core<0.13,>=0.12.35->llama-index) (6.6.4)\n",
      "Requirement already satisfied: propcache>=0.2.0 in /Users/paesir/Desktop/git/llama-index/.venv/lib/python3.12/site-packages (from aiohttp<4,>=3.8.6->llama-index-core<0.13,>=0.12.35->llama-index) (0.3.2)\n",
      "Requirement already satisfied: yarl<2.0,>=1.17.0 in /Users/paesir/Desktop/git/llama-index/.venv/lib/python3.12/site-packages (from aiohttp<4,>=3.8.6->llama-index-core<0.13,>=0.12.35->llama-index) (1.20.1)\n",
      "Requirement already satisfied: griffe in /Users/paesir/Desktop/git/llama-index/.venv/lib/python3.12/site-packages (from banks<3,>=2.2.0->llama-index-core<0.13,>=0.12.35->llama-index) (1.14.0)\n",
      "Requirement already satisfied: jinja2 in /Users/paesir/Desktop/git/llama-index/.venv/lib/python3.12/site-packages (from banks<3,>=2.2.0->llama-index-core<0.13,>=0.12.35->llama-index) (3.1.6)\n",
      "Requirement already satisfied: beautifulsoup4<5,>=4.12.3 in /Users/paesir/Desktop/git/llama-index/.venv/lib/python3.12/site-packages (from llama-index-readers-file<0.5,>=0.4.0->llama-index) (4.13.5)\n",
      "Requirement already satisfied: defusedxml>=0.7.1 in /Users/paesir/Desktop/git/llama-index/.venv/lib/python3.12/site-packages (from llama-index-readers-file<0.5,>=0.4.0->llama-index) (0.7.1)\n",
      "Requirement already satisfied: pypdf<6,>=5.1.0 in /Users/paesir/Desktop/git/llama-index/.venv/lib/python3.12/site-packages (from llama-index-readers-file<0.5,>=0.4.0->llama-index) (5.9.0)\n",
      "Requirement already satisfied: striprtf<0.0.27,>=0.0.26 in /Users/paesir/Desktop/git/llama-index/.venv/lib/python3.12/site-packages (from llama-index-readers-file<0.5,>=0.4.0->llama-index) (0.0.26)\n",
      "Requirement already satisfied: soupsieve>1.2 in /Users/paesir/Desktop/git/llama-index/.venv/lib/python3.12/site-packages (from beautifulsoup4<5,>=4.12.3->llama-index-readers-file<0.5,>=0.4.0->llama-index) (2.8)\n",
      "Requirement already satisfied: llama-index-instrumentation>=0.1.0 in /Users/paesir/Desktop/git/llama-index/.venv/lib/python3.12/site-packages (from llama-index-workflows<2,>=1.0.1->llama-index-core<0.13,>=0.12.35->llama-index) (0.4.0)\n",
      "Requirement already satisfied: anyio<5,>=3.5.0 in /Users/paesir/Desktop/git/llama-index/.venv/lib/python3.12/site-packages (from openai>=1.14.0->llama-index-agent-openai<0.5,>=0.4.0->llama-index) (4.10.0)\n",
      "Requirement already satisfied: distro<2,>=1.7.0 in /Users/paesir/Desktop/git/llama-index/.venv/lib/python3.12/site-packages (from openai>=1.14.0->llama-index-agent-openai<0.5,>=0.4.0->llama-index) (1.9.0)\n",
      "Requirement already satisfied: jiter<1,>=0.4.0 in /Users/paesir/Desktop/git/llama-index/.venv/lib/python3.12/site-packages (from openai>=1.14.0->llama-index-agent-openai<0.5,>=0.4.0->llama-index) (0.10.0)\n",
      "Requirement already satisfied: sniffio in /Users/paesir/Desktop/git/llama-index/.venv/lib/python3.12/site-packages (from openai>=1.14.0->llama-index-agent-openai<0.5,>=0.4.0->llama-index) (1.3.1)\n",
      "Requirement already satisfied: idna>=2.8 in /Users/paesir/Desktop/git/llama-index/.venv/lib/python3.12/site-packages (from anyio<5,>=3.5.0->openai>=1.14.0->llama-index-agent-openai<0.5,>=0.4.0->llama-index) (3.10)\n",
      "Requirement already satisfied: certifi in /Users/paesir/Desktop/git/llama-index/.venv/lib/python3.12/site-packages (from httpx->llama-index-core<0.13,>=0.12.35->llama-index) (2025.8.3)\n",
      "Requirement already satisfied: httpcore==1.* in /Users/paesir/Desktop/git/llama-index/.venv/lib/python3.12/site-packages (from httpx->llama-index-core<0.13,>=0.12.35->llama-index) (1.0.9)\n",
      "Requirement already satisfied: h11>=0.16 in /Users/paesir/Desktop/git/llama-index/.venv/lib/python3.12/site-packages (from httpcore==1.*->httpx->llama-index-core<0.13,>=0.12.35->llama-index) (0.16.0)\n",
      "Requirement already satisfied: python-dateutil>=2.8.2 in /Users/paesir/Desktop/git/llama-index/.venv/lib/python3.12/site-packages (from pandas>=0.23->pandas-datareader) (2.9.0.post0)\n",
      "Requirement already satisfied: pytz>=2020.1 in /Users/paesir/Desktop/git/llama-index/.venv/lib/python3.12/site-packages (from pandas>=0.23->pandas-datareader) (2025.2)\n",
      "Requirement already satisfied: tzdata>=2022.7 in /Users/paesir/Desktop/git/llama-index/.venv/lib/python3.12/site-packages (from pandas>=0.23->pandas-datareader) (2025.2)\n",
      "Requirement already satisfied: annotated-types>=0.6.0 in /Users/paesir/Desktop/git/llama-index/.venv/lib/python3.12/site-packages (from pydantic>=2.8.0->llama-index-core<0.13,>=0.12.35->llama-index) (0.7.0)\n",
      "Requirement already satisfied: pydantic-core==2.33.2 in /Users/paesir/Desktop/git/llama-index/.venv/lib/python3.12/site-packages (from pydantic>=2.8.0->llama-index-core<0.13,>=0.12.35->llama-index) (2.33.2)\n",
      "Requirement already satisfied: typing-inspection>=0.4.0 in /Users/paesir/Desktop/git/llama-index/.venv/lib/python3.12/site-packages (from pydantic>=2.8.0->llama-index-core<0.13,>=0.12.35->llama-index) (0.4.1)\n",
      "Requirement already satisfied: llama-cloud==0.1.35 in /Users/paesir/Desktop/git/llama-index/.venv/lib/python3.12/site-packages (from llama-index-indices-managed-llama-cloud>=0.4.0->llama-index) (0.1.35)\n",
      "Requirement already satisfied: llama-parse>=0.5.0 in /Users/paesir/Desktop/git/llama-index/.venv/lib/python3.12/site-packages (from llama-index-readers-llama-parse>=0.4.0->llama-index) (0.6.21)\n",
      "Requirement already satisfied: llama-cloud-services>=0.6.21 in /Users/paesir/Desktop/git/llama-index/.venv/lib/python3.12/site-packages (from llama-parse>=0.5.0->llama-index-readers-llama-parse>=0.4.0->llama-index) (0.6.54)\n",
      "Requirement already satisfied: click<9,>=8.1.7 in /Users/paesir/Desktop/git/llama-index/.venv/lib/python3.12/site-packages (from llama-cloud-services>=0.6.21->llama-parse>=0.5.0->llama-index-readers-llama-parse>=0.4.0->llama-index) (8.2.1)\n",
      "Requirement already satisfied: python-dotenv<2,>=1.0.1 in /Users/paesir/Desktop/git/llama-index/.venv/lib/python3.12/site-packages (from llama-cloud-services>=0.6.21->llama-parse>=0.5.0->llama-index-readers-llama-parse>=0.4.0->llama-index) (1.1.1)\n",
      "Requirement already satisfied: joblib in /Users/paesir/Desktop/git/llama-index/.venv/lib/python3.12/site-packages (from nltk>3.8.1->llama-index) (1.5.2)\n",
      "Requirement already satisfied: regex>=2021.8.3 in /Users/paesir/Desktop/git/llama-index/.venv/lib/python3.12/site-packages (from nltk>3.8.1->llama-index) (2025.9.1)\n",
      "Requirement already satisfied: six>=1.5 in /Users/paesir/Desktop/git/llama-index/.venv/lib/python3.12/site-packages (from python-dateutil>=2.8.2->pandas>=0.23->pandas-datareader) (1.17.0)\n",
      "Requirement already satisfied: charset_normalizer<4,>=2 in /Users/paesir/Desktop/git/llama-index/.venv/lib/python3.12/site-packages (from requests>=2.19.0->pandas-datareader) (3.4.3)\n",
      "Requirement already satisfied: urllib3<3,>=1.21.1 in /Users/paesir/Desktop/git/llama-index/.venv/lib/python3.12/site-packages (from requests>=2.19.0->pandas-datareader) (2.5.0)\n",
      "Requirement already satisfied: greenlet>=1 in /Users/paesir/Desktop/git/llama-index/.venv/lib/python3.12/site-packages (from sqlalchemy[asyncio]>=1.4.49->llama-index-core<0.13,>=0.12.35->llama-index) (3.2.4)\n",
      "Requirement already satisfied: mypy-extensions>=0.3.0 in /Users/paesir/Desktop/git/llama-index/.venv/lib/python3.12/site-packages (from typing-inspect>=0.8.0->llama-index-core<0.13,>=0.12.35->llama-index) (1.1.0)\n",
      "Requirement already satisfied: marshmallow<4.0.0,>=3.18.0 in /Users/paesir/Desktop/git/llama-index/.venv/lib/python3.12/site-packages (from dataclasses-json->llama-index-core<0.13,>=0.12.35->llama-index) (3.26.1)\n",
      "Requirement already satisfied: packaging>=17.0 in /Users/paesir/Desktop/git/llama-index/.venv/lib/python3.12/site-packages (from marshmallow<4.0.0,>=3.18.0->dataclasses-json->llama-index-core<0.13,>=0.12.35->llama-index) (24.2)\n",
      "Requirement already satisfied: colorama>=0.4 in /Users/paesir/Desktop/git/llama-index/.venv/lib/python3.12/site-packages (from griffe->banks<3,>=2.2.0->llama-index-core<0.13,>=0.12.35->llama-index) (0.4.6)\n",
      "Requirement already satisfied: MarkupSafe>=2.0 in /Users/paesir/Desktop/git/llama-index/.venv/lib/python3.12/site-packages (from jinja2->banks<3,>=2.2.0->llama-index-core<0.13,>=0.12.35->llama-index) (3.0.2)\n"
     ]
    }
   ],
   "source": [
    "!pip install pandas-datareader llama-index\n",
    "\n",
    "import pandas_datareader as pdr\n",
    "from datetime import datetime, timedelta\n",
    "import json\n",
    "from typing import Dict, Optional\n",
    "from llama_index.core.tools import FunctionTool\n",
    "from llama_index.core.agent.workflow import ReActAgent\n",
    "from llama_index.llms.openai import OpenAI\n",
    "import numpy as np"
   ]
  },
  {
   "cell_type": "code",
   "execution_count": 8,
   "id": "66a290fe",
   "metadata": {},
   "outputs": [],
   "source": [
    "llm=OpenAI(model=\"gpt-4o-mini\", api_key=api_key)"
   ]
  },
  {
   "cell_type": "code",
   "execution_count": 9,
   "id": "63459c0d",
   "metadata": {},
   "outputs": [],
   "source": [
    "# 미국 주식 최신 종가 호출 \n",
    "def get_stock_price_us(ticker: str) -> str:\n",
    "    try:\n",
    "        # 티커를 대문자로 변환하고 공백 제거\n",
    "        ticker = ticker.upper().strip()\n",
    "        \n",
    "        # 기본적인 티커 형식 검증 (1-5자리 알파벳 + 선택적 하이픈/점)\n",
    "        if not ticker or len(ticker) > 6:\n",
    "            return f\"'{ticker}'는 유효한 티커가 아닙니다. 올바른 티커 심볼을 입력하세요.\"\n",
    "        \n",
    "        # 5일치 데이터 가져오기\n",
    "        end_date = datetime.now()\n",
    "        start_date = end_date - timedelta(days=7)  # 주말 고려하여 7일\n",
    "        \n",
    "        # pandas-datareader로 Stooq에서 데이터 조회\n",
    "        df = pdr.get_data_stooq(ticker, start=start_date, end=end_date)\n",
    "        \n",
    "        if df.empty:\n",
    "            return f\"{ticker}: 데이터를 찾을 수 없습니다. 티커를 확인하세요.\"\n",
    "        \n",
    "        # 최신 종가\n",
    "        latest_price = round(df['Close'].iloc[-1], 2)\n",
    "        latest_date = df.index[-1].strftime('%Y-%m-%d')\n",
    "        \n",
    "        # 전일 대비 변동 계산\n",
    "        if len(df) > 1:\n",
    "            prev_close = df['Close'].iloc[-2]\n",
    "            change = latest_price - prev_close\n",
    "            change_pct = (change / prev_close) * 100\n",
    "            \n",
    "            # 변동 표시\n",
    "            if change > 0:\n",
    "                change_str = f\"+${abs(change):.2f} (+{change_pct:.2f}%)\"\n",
    "            elif change < 0:\n",
    "                change_str = f\"-${abs(change):.2f} ({change_pct:.2f}%)\"\n",
    "            else:\n",
    "                change_str = \"➡️ 변동 없음\"\n",
    "        else:\n",
    "            change_str = \"변동 정보 없음\"\n",
    "        \n",
    "        return (f\"{ticker}\\n\"\n",
    "                f\"현재가: ${latest_price:,.2f}\\n\"\n",
    "                f\"변동: {change_str}\\n\"\n",
    "                f\"기준일: {latest_date}\")\n",
    "        \n",
    "    except Exception as e:\n",
    "        # 에러 처리\n",
    "        error_msg = str(e)\n",
    "        if \"No data fetched\" in error_msg:\n",
    "            return f\"{ticker}: 존재하지 않는 티커이거나 상장폐지된 종목입니다.\"\n",
    "        else:\n",
    "            return f\"{ticker} 조회 중 오류 발생: {error_msg[:100]}\""
   ]
  },
  {
   "cell_type": "code",
   "execution_count": 10,
   "id": "56be20ab",
   "metadata": {},
   "outputs": [],
   "source": [
    "# FunctionTool 생성\n",
    "stock_tool = FunctionTool.from_defaults(\n",
    "    fn=get_stock_price_us,\n",
    "    name=\"get_stock_price\",\n",
    "    description=\"\"\"미국 주식 가격을 티커 심볼로 조회합니다.\n",
    "    \n",
    "    티커 심볼을 입력하세요:\n",
    "    - AAPL (Apple)\n",
    "    - TSLA (Tesla)  \n",
    "    - GOOGL (Google/Alphabet)\n",
    "    - MSFT (Microsoft)\n",
    "    - AMZN (Amazon)\n",
    "    - META (Meta/Facebook)\n",
    "    - NVDA (Nvidia)\n",
    "    - NFLX (Netflix)\n",
    "    - 기타 모든 미국 주식 티커\n",
    "    \n",
    "    주의: 회사명이 아닌 티커 심볼을 입력해야 합니다.\"\"\"\n",
    ")"
   ]
  },
  {
   "cell_type": "code",
   "execution_count": 11,
   "id": "c4db3bc2",
   "metadata": {},
   "outputs": [],
   "source": [
    "# Agent 생성\n",
    "agent = ReActAgent(\n",
    "    tools=[stock_tool],\n",
    "    llm=llm,\n",
    "    verbose=False,\n",
    "    max_iterations=3,\n",
    "    system_prompt=\"\"\"You are a US stock market assistant.\n",
    "    When users ask about stock prices by company name, you should:\n",
    "    1. Convert the company name to its ticker symbol\n",
    "    2. Use the get_stock_price tool with the ticker\n",
    "    \n",
    "    Common mappings:\n",
    "    - Apple -> AAPL\n",
    "    - Tesla -> TSLA\n",
    "    - Google/Alphabet -> GOOGL\n",
    "    - Microsoft -> MSFT\n",
    "    - Amazon -> AMZN\n",
    "    - Meta/Facebook -> META\n",
    "    - Nvidia -> NVDA\n",
    "    \n",
    "    The tool requires ticker symbols, not company names.\"\"\"\n",
    ")"
   ]
  },
  {
   "cell_type": "code",
   "execution_count": 12,
   "id": "e34de27d",
   "metadata": {},
   "outputs": [
    {
     "name": "stdout",
     "output_type": "stream",
     "text": [
      "AAPL\n",
      "현재가: $237.88\n",
      "변동: +$3.53 (+1.51%)\n",
      "기준일: 2025-09-08\n",
      "테슬라(TSLA)의 현재 주가는 $346.40이며, 변동은 -$0.57 (-0.16%)입니다.\n"
     ]
    }
   ],
   "source": [
    "# 직접 함수 호출\n",
    "print(get_stock_price_us(\"AAPL\"))\n",
    "\n",
    "# Agent 사용\n",
    "response = await agent.run(\"테슬라 주가 알려줘\")\n",
    "print(response)"
   ]
  },
  {
   "cell_type": "markdown",
   "id": "ec6426d3",
   "metadata": {},
   "source": [
    "## 펑션 콜링 실습 - Context-Augmented Function Calling Agent\n",
    "\n",
    "기존 FunctionCalling Agent가 더 이상 지원을 하지않고 삭제되어 이후 코드는 ReAct Agent 코드로 진행합니다."
   ]
  },
  {
   "cell_type": "code",
   "execution_count": 13,
   "id": "4a43ae35",
   "metadata": {},
   "outputs": [
    {
     "name": "stdout",
     "output_type": "stream",
     "text": [
      "완료: [삼성전자]사업보고서_2022.pdf 다운로드 완료\n",
      "완료: [삼성전자]사업보고서_2023.pdf 다운로드 완료\n",
      "완료: [삼성전자]사업보고서_2024.pdf 다운로드 완료\n"
     ]
    }
   ],
   "source": [
    "#데이터 다운로드 \n",
    "import os\n",
    "import urllib.parse\n",
    "import requests\n",
    "import re\n",
    "\n",
    "urls=[\n",
    "    \"https://raw.githubusercontent.com/llama-index-tutorial/llama-index-tutorial/main/ch08/data/%5B%EC%82%BC%EC%84%B1%EC%A0%84%EC%9E%90%5D%EC%82%AC%EC%97%85%EB%B3%B4%EA%B3%A0%EC%84%9C_2022.pdf\",\n",
    "    \"https://raw.githubusercontent.com/llama-index-tutorial/llama-index-tutorial/main/ch08/data/%5B%EC%82%BC%EC%84%B1%EC%A0%84%EC%9E%90%5D%EC%82%AC%EC%97%85%EB%B3%B4%EA%B3%A0%EC%84%9C_2023.pdf\",\n",
    "    \"https://raw.githubusercontent.com/llama-index-tutorial/llama-index-tutorial/main/ch08/data/%5B%EC%82%BC%EC%84%B1%EC%A0%84%EC%9E%90%5D%EC%82%AC%EC%97%85%EB%B3%B4%EA%B3%A0%EC%84%9C_2024.pdf\"\n",
    "    ]\n",
    "\n",
    "# 각 파일 다운로드\n",
    "for url in urls:\n",
    "    encoded_filename = url.split(\"/\")[-1]  # URL에서 파일명 추출\n",
    "    decoded_filename = urllib.parse.unquote(encoded_filename) # 한글 파일명 복원\n",
    "    response = requests.get(url)\n",
    "    if response.status_code == 200:\n",
    "# 임시 파일명으로 저장\n",
    "        temp_filename = \"temp_download_file\" + os.path.splitext(decoded_filename)[1] \n",
    "        with open(temp_filename, 'wb') as f:\n",
    "            f.write(response.content)            \n",
    "        os.rename(temp_filename, decoded_filename) # 파일명 변경\n",
    "        print(f\"완료: {decoded_filename} 다운로드 완료\")\n",
    "    else:\n",
    "        print(f\"오류: {url} 다운로드 실패 (상태 코드: {response.status_code})\\n\")\n"
   ]
  },
  {
   "cell_type": "code",
   "execution_count": 14,
   "id": "a30be0f6",
   "metadata": {},
   "outputs": [],
   "source": [
    "from llama_index.llms.openai import OpenAI\n",
    "from llama_index.embeddings.openai import OpenAIEmbedding\n",
    "from llama_index.core.settings import Settings\n",
    "\n",
    "Settings.llm = OpenAI(model=\"gpt-4o-mini\", api_key=api_key)\n",
    "Settings.embed_model = OpenAIEmbedding(model=\"text-embedding-3-small\", api_key=api_key)"
   ]
  },
  {
   "cell_type": "code",
   "execution_count": 15,
   "id": "e72c1990",
   "metadata": {},
   "outputs": [],
   "source": [
    "from llama_index.core import (\n",
    "    SimpleDirectoryReader,\n",
    "    VectorStoreIndex  \n",
    ")\n",
    "from llama_index.core.tools import QueryEngineTool"
   ]
  },
  {
   "cell_type": "code",
   "execution_count": 16,
   "id": "bfeac230",
   "metadata": {},
   "outputs": [
    {
     "name": "stderr",
     "output_type": "stream",
     "text": [
      "[nltk_data] Error loading stopwords: <urlopen error [SSL:\n",
      "[nltk_data]     CERTIFICATE_VERIFY_FAILED] certificate verify failed:\n",
      "[nltk_data]     unable to get local issuer certificate (_ssl.c:1000)>\n",
      "[nltk_data] Error loading punkt_tab: <urlopen error [SSL:\n",
      "[nltk_data]     CERTIFICATE_VERIFY_FAILED] certificate verify failed:\n",
      "[nltk_data]     unable to get local issuer certificate (_ssl.c:1000)>\n"
     ]
    }
   ],
   "source": [
    "# load data\n",
    "S2024_docs = SimpleDirectoryReader(\n",
    "    input_files=[\"./data/[삼성전자]사업보고서_2024.pdf\"]\n",
    "    ).load_data()\n",
    "S2023_docs = SimpleDirectoryReader(\n",
    "    input_files=[\"./data/[삼성전자]사업보고서_2023.pdf\"]\n",
    "    ).load_data()\n",
    "S2022_docs = SimpleDirectoryReader(\n",
    "    input_files=[\"./data/[삼성전자]사업보고서_2022.pdf\"]\n",
    "    ).load_data()\n",
    "\n",
    "# build index\n",
    "S2024_index = VectorStoreIndex.from_documents(S2024_docs)\n",
    "S2023_index = VectorStoreIndex.from_documents(S2023_docs)\n",
    "S2022_index = VectorStoreIndex.from_documents(S2022_docs)\n",
    "    "
   ]
  },
  {
   "cell_type": "code",
   "execution_count": 17,
   "id": "c7edb829",
   "metadata": {},
   "outputs": [],
   "source": [
    "S2024_engine = S2024_index.as_query_engine(similarity_top_k=3)\n",
    "S2023_engine = S2023_index.as_query_engine(similarity_top_k=3)\n",
    "S2022_engine = S2022_index.as_query_engine(similarity_top_k=3)"
   ]
  },
  {
   "cell_type": "code",
   "execution_count": 18,
   "id": "7894fb2c",
   "metadata": {},
   "outputs": [],
   "source": [
    "query_engine_tools = [\n",
    "    QueryEngineTool.from_defaults(\n",
    "        query_engine=S2024_engine,\n",
    "        name=\"samsung_2024\",\n",
    "        description=(\n",
    "            \"삼성전자의 2024년 재무상태에 대해 정보 제공해 주세요.\"\n",
    "            \"도구에 입력할 때 자세한 일반 텍스트 질문을 사용합니다.\"\n",
    "            \"실적 분석할 때 보고서를 충분히 검토한 후 답변해 주세요\"\n",
    "        ),\n",
    "    ),\n",
    "    QueryEngineTool.from_defaults(\n",
    "        query_engine=S2023_engine,\n",
    "        name=\"samsung_2023\",\n",
    "        description=(\n",
    "             \"삼성전자의 2023년 재무상태에 대해 정보 제공해 주세요.\"\n",
    "            \"도구에 입력할 때 자세한 일반 텍스트 질문을 사용합니다.\"\n",
    "            \"실적 분석할 때 보고서를 충분히 검토한 후 답변해 주세요\"\n",
    "        ),\n",
    "    ),\n",
    "    QueryEngineTool.from_defaults(\n",
    "        query_engine=S2022_engine,\n",
    "        name=\"samsung_2022\",\n",
    "        description=(\n",
    "             \"삼성전자의 2022년 재무상태에 대해 정보 제공해 주세요.\"\n",
    "            \"도구에 입력할 때 자세한 일반 텍스트 질문을 사용합니다.\"\n",
    "            \"실적 분석할 때 보고서를 충분히 검토한 후 답변해 주세요\"\n",
    "        ),\n",
    "    ),\n",
    "]"
   ]
  },
  {
   "cell_type": "code",
   "execution_count": 22,
   "id": "84d36977",
   "metadata": {},
   "outputs": [],
   "source": [
    "# agent 생성\n",
    "agent = ReActAgent(\n",
    "    tools=query_engine_tools,  # tools 대신 query_engine_tools 사용\n",
    "    llm=llm,\n",
    "    verbose=False,\n",
    "    )\n"
   ]
  },
  {
   "cell_type": "code",
   "execution_count": 23,
   "id": "a488d38c",
   "metadata": {},
   "outputs": [
    {
     "name": "stdout",
     "output_type": "stream",
     "text": [
      "삼성전자의 2022년 연결기준 매출액은 302조 2,314억원, 2023년 연결기준 매출액은 258조 9,355억원, 2024년 연결기준 매출액은 301조원입니다.\n"
     ]
    }
   ],
   "source": [
    "response = await agent.run(\n",
    "    \"삼성전자의 2022년, 2023년, 2024년 연결기준 매출액을 각각 알려주세요. \"\n",
    "    \"각 연도의 매출액을 원화 단위로 제시해 주세요.\"\n",
    ")\n",
    "print(response)"
   ]
  },
  {
   "cell_type": "code",
   "execution_count": 24,
   "id": "f1075273",
   "metadata": {},
   "outputs": [
    {
     "name": "stdout",
     "output_type": "stream",
     "text": [
      "삼성전자의 2022년, 2023년, 2024년 매출액과 영업이익은 다음과 같습니다:\n",
      "- **2022년**: 매출액 302조 2,314억원, 영업이익 51조 6,633억원\n",
      "- **2023년**: 매출액 258조 9,355억원, 영업이익 6조 5,669억원\n",
      "- **2024년**: 매출액 301조 원, 영업이익 33조 원\n",
      "\n",
      "2023년 매출액이 줄어든 이유는 글로벌 경제 상황, 공급망 문제, 시장 경쟁 심화 등이 있으며, 2024년에 회복된 이유는 경제 상황 개선, 공급망 회복, 신제품 출시 등이 있을 것으로 분석됩니다.\n"
     ]
    }
   ],
   "source": [
    "response= await agent.run(\"삼성전자의 2022년, 2023년, 2024년 매출액과 영업이익을 알려줘. 그리고 2023년에는 전년대비 줄어든 매출액이 2024년에는 다시 회복된 이유를 뭐라고 분석하고 있는지 찾아줘\")\n",
    "print(response)"
   ]
  },
  {
   "cell_type": "code",
   "execution_count": 25,
   "id": "f462405e",
   "metadata": {},
   "outputs": [
    {
     "name": "stdout",
     "output_type": "stream",
     "text": [
      "2024년 삼성전자의 매출 회복은 여러 요인에 기인합니다. 전체 매출이 전년 대비 16.2% 증가한 점에서 볼 수 있듯이, 다양한 제품 라인업의 성장이 중요한 역할을 했습니다. 특히, DS 부문에서 DRAM과 NAND Flash 등 고부가가치 제품의 수요가 크게 증가하여 66.8%의 매출 성장을 기록했습니다. \n",
      "\n",
      "또한, DX 부문에서도 소폭의 증가가 있었으며, 이는 스마트폰, TV, 냉장고 등 다양한 소비자 가전 제품의 판매 호조에 기인합니다. AI 기술을 접목한 Galaxy S24 시리즈와 Galaxy Z 폴드6 및 Z 플립6의 출시도 소비자들의 관심을 끌어 매출 증가에 기여했습니다.\n",
      "\n",
      "마지막으로, 견실한 재무 구조와 브랜드 가치의 상승도 매출 회복에 긍정적인 영향을 미쳤습니다. 이러한 요소들이 결합되어 삼성전자는 2024년에 매출을 효과적으로 회복할 수 있었습니다.\n"
     ]
    }
   ],
   "source": [
    "response=await agent.run(\"삼성전자의 2023년 매출액이 2022년에 비해 많이 줄었는데, 2024년에는 다시 회복됐어. 이유를 뭐라고 분석하고 있어? 보고서를 충분히 검토하고 답변해 줘\")\n",
    "print(response)"
   ]
  }
 ],
 "metadata": {
  "kernelspec": {
   "display_name": ".venv",
   "language": "python",
   "name": "python3"
  },
  "language_info": {
   "codemirror_mode": {
    "name": "ipython",
    "version": 3
   },
   "file_extension": ".py",
   "mimetype": "text/x-python",
   "name": "python",
   "nbconvert_exporter": "python",
   "pygments_lexer": "ipython3",
   "version": "3.12.8"
  }
 },
 "nbformat": 4,
 "nbformat_minor": 5
}
