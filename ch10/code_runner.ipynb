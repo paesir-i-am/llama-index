{
 "cells": [
  {
   "cell_type": "markdown",
   "id": "e904c61c",
   "metadata": {},
   "source": [
    "노트북(.ipynb)을 ch10 폴더 최상단에 두고 실행하세요"
   ]
  },
  {
   "cell_type": "markdown",
   "id": "ec43f1d5",
   "metadata": {},
   "source": [
    "## 서버 시작 / 종료 함수"
   ]
  },
  {
   "cell_type": "code",
   "execution_count": 7,
   "id": "01c08396",
   "metadata": {},
   "outputs": [
    {
     "name": "stdout",
     "output_type": "stream",
     "text": [
      "Requirement already satisfied: mcp in /Users/paesir/Desktop/git/llama-index/.venv/lib/python3.12/site-packages (1.14.0)\n",
      "Requirement already satisfied: fastmcp in /Users/paesir/Desktop/git/llama-index/.venv/lib/python3.12/site-packages (2.12.3)\n",
      "Requirement already satisfied: anyio>=4.5 in /Users/paesir/Desktop/git/llama-index/.venv/lib/python3.12/site-packages (from mcp) (4.10.0)\n",
      "Requirement already satisfied: httpx-sse>=0.4 in /Users/paesir/Desktop/git/llama-index/.venv/lib/python3.12/site-packages (from mcp) (0.4.1)\n",
      "Requirement already satisfied: httpx>=0.27.1 in /Users/paesir/Desktop/git/llama-index/.venv/lib/python3.12/site-packages (from mcp) (0.28.1)\n",
      "Requirement already satisfied: jsonschema>=4.20.0 in /Users/paesir/Desktop/git/llama-index/.venv/lib/python3.12/site-packages (from mcp) (4.25.1)\n",
      "Requirement already satisfied: pydantic-settings>=2.5.2 in /Users/paesir/Desktop/git/llama-index/.venv/lib/python3.12/site-packages (from mcp) (2.10.1)\n",
      "Requirement already satisfied: pydantic<3.0.0,>=2.11.0 in /Users/paesir/Desktop/git/llama-index/.venv/lib/python3.12/site-packages (from mcp) (2.11.8)\n",
      "Requirement already satisfied: python-multipart>=0.0.9 in /Users/paesir/Desktop/git/llama-index/.venv/lib/python3.12/site-packages (from mcp) (0.0.20)\n",
      "Requirement already satisfied: sse-starlette>=1.6.1 in /Users/paesir/Desktop/git/llama-index/.venv/lib/python3.12/site-packages (from mcp) (3.0.2)\n",
      "Requirement already satisfied: starlette>=0.27 in /Users/paesir/Desktop/git/llama-index/.venv/lib/python3.12/site-packages (from mcp) (0.47.3)\n",
      "Requirement already satisfied: uvicorn>=0.31.1 in /Users/paesir/Desktop/git/llama-index/.venv/lib/python3.12/site-packages (from mcp) (0.35.0)\n",
      "Requirement already satisfied: annotated-types>=0.6.0 in /Users/paesir/Desktop/git/llama-index/.venv/lib/python3.12/site-packages (from pydantic<3.0.0,>=2.11.0->mcp) (0.7.0)\n",
      "Requirement already satisfied: pydantic-core==2.33.2 in /Users/paesir/Desktop/git/llama-index/.venv/lib/python3.12/site-packages (from pydantic<3.0.0,>=2.11.0->mcp) (2.33.2)\n",
      "Requirement already satisfied: typing-extensions>=4.12.2 in /Users/paesir/Desktop/git/llama-index/.venv/lib/python3.12/site-packages (from pydantic<3.0.0,>=2.11.0->mcp) (4.15.0)\n",
      "Requirement already satisfied: typing-inspection>=0.4.0 in /Users/paesir/Desktop/git/llama-index/.venv/lib/python3.12/site-packages (from pydantic<3.0.0,>=2.11.0->mcp) (0.4.1)\n",
      "Requirement already satisfied: authlib>=1.5.2 in /Users/paesir/Desktop/git/llama-index/.venv/lib/python3.12/site-packages (from fastmcp) (1.6.3)\n",
      "Requirement already satisfied: cyclopts>=3.0.0 in /Users/paesir/Desktop/git/llama-index/.venv/lib/python3.12/site-packages (from fastmcp) (3.24.0)\n",
      "Requirement already satisfied: exceptiongroup>=1.2.2 in /Users/paesir/Desktop/git/llama-index/.venv/lib/python3.12/site-packages (from fastmcp) (1.3.0)\n",
      "Requirement already satisfied: openapi-core>=0.19.5 in /Users/paesir/Desktop/git/llama-index/.venv/lib/python3.12/site-packages (from fastmcp) (0.19.5)\n",
      "Requirement already satisfied: openapi-pydantic>=0.5.1 in /Users/paesir/Desktop/git/llama-index/.venv/lib/python3.12/site-packages (from fastmcp) (0.5.1)\n",
      "Requirement already satisfied: pyperclip>=1.9.0 in /Users/paesir/Desktop/git/llama-index/.venv/lib/python3.12/site-packages (from fastmcp) (1.9.0)\n",
      "Requirement already satisfied: python-dotenv>=1.1.0 in /Users/paesir/Desktop/git/llama-index/.venv/lib/python3.12/site-packages (from fastmcp) (1.1.1)\n",
      "Requirement already satisfied: rich>=13.9.4 in /Users/paesir/Desktop/git/llama-index/.venv/lib/python3.12/site-packages (from fastmcp) (14.1.0)\n",
      "Requirement already satisfied: idna>=2.8 in /Users/paesir/Desktop/git/llama-index/.venv/lib/python3.12/site-packages (from anyio>=4.5->mcp) (3.10)\n",
      "Requirement already satisfied: sniffio>=1.1 in /Users/paesir/Desktop/git/llama-index/.venv/lib/python3.12/site-packages (from anyio>=4.5->mcp) (1.3.1)\n",
      "Requirement already satisfied: cryptography in /Users/paesir/Desktop/git/llama-index/.venv/lib/python3.12/site-packages (from authlib>=1.5.2->fastmcp) (45.0.7)\n",
      "Requirement already satisfied: attrs>=23.1.0 in /Users/paesir/Desktop/git/llama-index/.venv/lib/python3.12/site-packages (from cyclopts>=3.0.0->fastmcp) (25.3.0)\n",
      "Requirement already satisfied: docstring-parser>=0.15 in /Users/paesir/Desktop/git/llama-index/.venv/lib/python3.12/site-packages (from cyclopts>=3.0.0->fastmcp) (0.17.0)\n",
      "Requirement already satisfied: rich-rst<2.0.0,>=1.3.1 in /Users/paesir/Desktop/git/llama-index/.venv/lib/python3.12/site-packages (from cyclopts>=3.0.0->fastmcp) (1.3.1)\n",
      "Requirement already satisfied: docutils in /Users/paesir/Desktop/git/llama-index/.venv/lib/python3.12/site-packages (from rich-rst<2.0.0,>=1.3.1->cyclopts>=3.0.0->fastmcp) (0.22)\n",
      "Requirement already satisfied: certifi in /Users/paesir/Desktop/git/llama-index/.venv/lib/python3.12/site-packages (from httpx>=0.27.1->mcp) (2025.8.3)\n",
      "Requirement already satisfied: httpcore==1.* in /Users/paesir/Desktop/git/llama-index/.venv/lib/python3.12/site-packages (from httpx>=0.27.1->mcp) (1.0.9)\n",
      "Requirement already satisfied: h11>=0.16 in /Users/paesir/Desktop/git/llama-index/.venv/lib/python3.12/site-packages (from httpcore==1.*->httpx>=0.27.1->mcp) (0.16.0)\n",
      "Requirement already satisfied: jsonschema-specifications>=2023.03.6 in /Users/paesir/Desktop/git/llama-index/.venv/lib/python3.12/site-packages (from jsonschema>=4.20.0->mcp) (2025.9.1)\n",
      "Requirement already satisfied: referencing>=0.28.4 in /Users/paesir/Desktop/git/llama-index/.venv/lib/python3.12/site-packages (from jsonschema>=4.20.0->mcp) (0.36.2)\n",
      "Requirement already satisfied: rpds-py>=0.7.1 in /Users/paesir/Desktop/git/llama-index/.venv/lib/python3.12/site-packages (from jsonschema>=4.20.0->mcp) (0.27.1)\n",
      "Requirement already satisfied: isodate in /Users/paesir/Desktop/git/llama-index/.venv/lib/python3.12/site-packages (from openapi-core>=0.19.5->fastmcp) (0.7.2)\n",
      "Requirement already satisfied: jsonschema-path<0.4.0,>=0.3.1 in /Users/paesir/Desktop/git/llama-index/.venv/lib/python3.12/site-packages (from openapi-core>=0.19.5->fastmcp) (0.3.4)\n",
      "Requirement already satisfied: more-itertools in /Users/paesir/Desktop/git/llama-index/.venv/lib/python3.12/site-packages (from openapi-core>=0.19.5->fastmcp) (10.8.0)\n",
      "Requirement already satisfied: openapi-schema-validator<0.7.0,>=0.6.0 in /Users/paesir/Desktop/git/llama-index/.venv/lib/python3.12/site-packages (from openapi-core>=0.19.5->fastmcp) (0.6.3)\n",
      "Requirement already satisfied: openapi-spec-validator<0.8.0,>=0.7.1 in /Users/paesir/Desktop/git/llama-index/.venv/lib/python3.12/site-packages (from openapi-core>=0.19.5->fastmcp) (0.7.2)\n",
      "Requirement already satisfied: parse in /Users/paesir/Desktop/git/llama-index/.venv/lib/python3.12/site-packages (from openapi-core>=0.19.5->fastmcp) (1.20.2)\n",
      "Requirement already satisfied: werkzeug<3.1.2 in /Users/paesir/Desktop/git/llama-index/.venv/lib/python3.12/site-packages (from openapi-core>=0.19.5->fastmcp) (3.1.1)\n",
      "Requirement already satisfied: PyYAML>=5.1 in /Users/paesir/Desktop/git/llama-index/.venv/lib/python3.12/site-packages (from jsonschema-path<0.4.0,>=0.3.1->openapi-core>=0.19.5->fastmcp) (6.0.2)\n",
      "Requirement already satisfied: pathable<0.5.0,>=0.4.1 in /Users/paesir/Desktop/git/llama-index/.venv/lib/python3.12/site-packages (from jsonschema-path<0.4.0,>=0.3.1->openapi-core>=0.19.5->fastmcp) (0.4.4)\n",
      "Requirement already satisfied: requests<3.0.0,>=2.31.0 in /Users/paesir/Desktop/git/llama-index/.venv/lib/python3.12/site-packages (from jsonschema-path<0.4.0,>=0.3.1->openapi-core>=0.19.5->fastmcp) (2.32.5)\n",
      "Requirement already satisfied: rfc3339-validator in /Users/paesir/Desktop/git/llama-index/.venv/lib/python3.12/site-packages (from openapi-schema-validator<0.7.0,>=0.6.0->openapi-core>=0.19.5->fastmcp) (0.1.4)\n",
      "Requirement already satisfied: lazy-object-proxy<2.0.0,>=1.7.1 in /Users/paesir/Desktop/git/llama-index/.venv/lib/python3.12/site-packages (from openapi-spec-validator<0.8.0,>=0.7.1->openapi-core>=0.19.5->fastmcp) (1.12.0)\n",
      "Requirement already satisfied: charset_normalizer<4,>=2 in /Users/paesir/Desktop/git/llama-index/.venv/lib/python3.12/site-packages (from requests<3.0.0,>=2.31.0->jsonschema-path<0.4.0,>=0.3.1->openapi-core>=0.19.5->fastmcp) (3.4.3)\n",
      "Requirement already satisfied: urllib3<3,>=1.21.1 in /Users/paesir/Desktop/git/llama-index/.venv/lib/python3.12/site-packages (from requests<3.0.0,>=2.31.0->jsonschema-path<0.4.0,>=0.3.1->openapi-core>=0.19.5->fastmcp) (2.5.0)\n",
      "Requirement already satisfied: MarkupSafe>=2.1.1 in /Users/paesir/Desktop/git/llama-index/.venv/lib/python3.12/site-packages (from werkzeug<3.1.2->openapi-core>=0.19.5->fastmcp) (3.0.2)\n",
      "Requirement already satisfied: email-validator>=2.0.0 in /Users/paesir/Desktop/git/llama-index/.venv/lib/python3.12/site-packages (from pydantic[email]>=2.11.7->fastmcp) (2.3.0)\n",
      "Requirement already satisfied: dnspython>=2.0.0 in /Users/paesir/Desktop/git/llama-index/.venv/lib/python3.12/site-packages (from email-validator>=2.0.0->pydantic[email]>=2.11.7->fastmcp) (2.8.0)\n",
      "Requirement already satisfied: markdown-it-py>=2.2.0 in /Users/paesir/Desktop/git/llama-index/.venv/lib/python3.12/site-packages (from rich>=13.9.4->fastmcp) (4.0.0)\n",
      "Requirement already satisfied: pygments<3.0.0,>=2.13.0 in /Users/paesir/Desktop/git/llama-index/.venv/lib/python3.12/site-packages (from rich>=13.9.4->fastmcp) (2.19.2)\n",
      "Requirement already satisfied: mdurl~=0.1 in /Users/paesir/Desktop/git/llama-index/.venv/lib/python3.12/site-packages (from markdown-it-py>=2.2.0->rich>=13.9.4->fastmcp) (0.1.2)\n",
      "Requirement already satisfied: click>=7.0 in /Users/paesir/Desktop/git/llama-index/.venv/lib/python3.12/site-packages (from uvicorn>=0.31.1->mcp) (8.2.1)\n",
      "Requirement already satisfied: cffi>=1.14 in /Users/paesir/Desktop/git/llama-index/.venv/lib/python3.12/site-packages (from cryptography->authlib>=1.5.2->fastmcp) (2.0.0)\n",
      "Requirement already satisfied: pycparser in /Users/paesir/Desktop/git/llama-index/.venv/lib/python3.12/site-packages (from cffi>=1.14->cryptography->authlib>=1.5.2->fastmcp) (2.23)\n",
      "Requirement already satisfied: six in /Users/paesir/Desktop/git/llama-index/.venv/lib/python3.12/site-packages (from rfc3339-validator->openapi-schema-validator<0.7.0,>=0.6.0->openapi-core>=0.19.5->fastmcp) (1.17.0)\n",
      "Collecting llama-index-tools-mcp\n",
      "  Downloading llama_index_tools_mcp-0.4.1-py3-none-any.whl.metadata (6.9 kB)\n",
      "Collecting llama-index-core<0.15,>=0.13.0 (from llama-index-tools-mcp)\n",
      "  Using cached llama_index_core-0.14.1-py3-none-any.whl.metadata (2.5 kB)\n",
      "Requirement already satisfied: mcp<2,>=1.9.1 in /Users/paesir/Desktop/git/llama-index/.venv/lib/python3.12/site-packages (from llama-index-tools-mcp) (1.14.0)\n",
      "Requirement already satisfied: pydantic<3,>=2.0.0 in /Users/paesir/Desktop/git/llama-index/.venv/lib/python3.12/site-packages (from llama-index-tools-mcp) (2.11.8)\n",
      "Requirement already satisfied: aiohttp<4,>=3.8.6 in /Users/paesir/Desktop/git/llama-index/.venv/lib/python3.12/site-packages (from llama-index-core<0.15,>=0.13.0->llama-index-tools-mcp) (3.12.15)\n",
      "Requirement already satisfied: aiosqlite in /Users/paesir/Desktop/git/llama-index/.venv/lib/python3.12/site-packages (from llama-index-core<0.15,>=0.13.0->llama-index-tools-mcp) (0.21.0)\n",
      "Requirement already satisfied: banks<3,>=2.2.0 in /Users/paesir/Desktop/git/llama-index/.venv/lib/python3.12/site-packages (from llama-index-core<0.15,>=0.13.0->llama-index-tools-mcp) (2.2.0)\n",
      "Requirement already satisfied: dataclasses-json in /Users/paesir/Desktop/git/llama-index/.venv/lib/python3.12/site-packages (from llama-index-core<0.15,>=0.13.0->llama-index-tools-mcp) (0.6.7)\n",
      "Requirement already satisfied: deprecated>=1.2.9.3 in /Users/paesir/Desktop/git/llama-index/.venv/lib/python3.12/site-packages (from llama-index-core<0.15,>=0.13.0->llama-index-tools-mcp) (1.2.18)\n",
      "Requirement already satisfied: dirtyjson<2,>=1.0.8 in /Users/paesir/Desktop/git/llama-index/.venv/lib/python3.12/site-packages (from llama-index-core<0.15,>=0.13.0->llama-index-tools-mcp) (1.0.8)\n",
      "Requirement already satisfied: filetype<2,>=1.2.0 in /Users/paesir/Desktop/git/llama-index/.venv/lib/python3.12/site-packages (from llama-index-core<0.15,>=0.13.0->llama-index-tools-mcp) (1.2.0)\n",
      "Requirement already satisfied: fsspec>=2023.5.0 in /Users/paesir/Desktop/git/llama-index/.venv/lib/python3.12/site-packages (from llama-index-core<0.15,>=0.13.0->llama-index-tools-mcp) (2025.9.0)\n",
      "Requirement already satisfied: httpx in /Users/paesir/Desktop/git/llama-index/.venv/lib/python3.12/site-packages (from llama-index-core<0.15,>=0.13.0->llama-index-tools-mcp) (0.28.1)\n",
      "Collecting llama-index-workflows<3,>=2 (from llama-index-core<0.15,>=0.13.0->llama-index-tools-mcp)\n",
      "  Using cached llama_index_workflows-2.2.0-py3-none-any.whl.metadata (6.4 kB)\n",
      "Requirement already satisfied: nest-asyncio<2,>=1.5.8 in /Users/paesir/Desktop/git/llama-index/.venv/lib/python3.12/site-packages (from llama-index-core<0.15,>=0.13.0->llama-index-tools-mcp) (1.6.0)\n",
      "Requirement already satisfied: networkx>=3.0 in /Users/paesir/Desktop/git/llama-index/.venv/lib/python3.12/site-packages (from llama-index-core<0.15,>=0.13.0->llama-index-tools-mcp) (3.5)\n",
      "Requirement already satisfied: nltk>3.8.1 in /Users/paesir/Desktop/git/llama-index/.venv/lib/python3.12/site-packages (from llama-index-core<0.15,>=0.13.0->llama-index-tools-mcp) (3.9.1)\n",
      "Requirement already satisfied: numpy in /Users/paesir/Desktop/git/llama-index/.venv/lib/python3.12/site-packages (from llama-index-core<0.15,>=0.13.0->llama-index-tools-mcp) (1.26.4)\n",
      "Requirement already satisfied: pillow>=9.0.0 in /Users/paesir/Desktop/git/llama-index/.venv/lib/python3.12/site-packages (from llama-index-core<0.15,>=0.13.0->llama-index-tools-mcp) (11.3.0)\n",
      "Requirement already satisfied: platformdirs in /Users/paesir/Desktop/git/llama-index/.venv/lib/python3.12/site-packages (from llama-index-core<0.15,>=0.13.0->llama-index-tools-mcp) (4.4.0)\n",
      "Requirement already satisfied: pyyaml>=6.0.1 in /Users/paesir/Desktop/git/llama-index/.venv/lib/python3.12/site-packages (from llama-index-core<0.15,>=0.13.0->llama-index-tools-mcp) (6.0.2)\n",
      "Requirement already satisfied: requests>=2.31.0 in /Users/paesir/Desktop/git/llama-index/.venv/lib/python3.12/site-packages (from llama-index-core<0.15,>=0.13.0->llama-index-tools-mcp) (2.32.5)\n",
      "Requirement already satisfied: setuptools>=80.9.0 in /Users/paesir/Desktop/git/llama-index/.venv/lib/python3.12/site-packages (from llama-index-core<0.15,>=0.13.0->llama-index-tools-mcp) (80.9.0)\n",
      "Requirement already satisfied: sqlalchemy>=1.4.49 in /Users/paesir/Desktop/git/llama-index/.venv/lib/python3.12/site-packages (from sqlalchemy[asyncio]>=1.4.49->llama-index-core<0.15,>=0.13.0->llama-index-tools-mcp) (2.0.43)\n",
      "Requirement already satisfied: tenacity!=8.4.0,<10.0.0,>=8.2.0 in /Users/paesir/Desktop/git/llama-index/.venv/lib/python3.12/site-packages (from llama-index-core<0.15,>=0.13.0->llama-index-tools-mcp) (8.5.0)\n",
      "Requirement already satisfied: tiktoken>=0.7.0 in /Users/paesir/Desktop/git/llama-index/.venv/lib/python3.12/site-packages (from llama-index-core<0.15,>=0.13.0->llama-index-tools-mcp) (0.11.0)\n",
      "Requirement already satisfied: tqdm<5,>=4.66.1 in /Users/paesir/Desktop/git/llama-index/.venv/lib/python3.12/site-packages (from llama-index-core<0.15,>=0.13.0->llama-index-tools-mcp) (4.67.1)\n",
      "Requirement already satisfied: typing-extensions>=4.5.0 in /Users/paesir/Desktop/git/llama-index/.venv/lib/python3.12/site-packages (from llama-index-core<0.15,>=0.13.0->llama-index-tools-mcp) (4.15.0)\n",
      "Requirement already satisfied: typing-inspect>=0.8.0 in /Users/paesir/Desktop/git/llama-index/.venv/lib/python3.12/site-packages (from llama-index-core<0.15,>=0.13.0->llama-index-tools-mcp) (0.9.0)\n",
      "Requirement already satisfied: wrapt in /Users/paesir/Desktop/git/llama-index/.venv/lib/python3.12/site-packages (from llama-index-core<0.15,>=0.13.0->llama-index-tools-mcp) (1.17.3)\n",
      "Requirement already satisfied: aiohappyeyeballs>=2.5.0 in /Users/paesir/Desktop/git/llama-index/.venv/lib/python3.12/site-packages (from aiohttp<4,>=3.8.6->llama-index-core<0.15,>=0.13.0->llama-index-tools-mcp) (2.6.1)\n",
      "Requirement already satisfied: aiosignal>=1.4.0 in /Users/paesir/Desktop/git/llama-index/.venv/lib/python3.12/site-packages (from aiohttp<4,>=3.8.6->llama-index-core<0.15,>=0.13.0->llama-index-tools-mcp) (1.4.0)\n",
      "Requirement already satisfied: attrs>=17.3.0 in /Users/paesir/Desktop/git/llama-index/.venv/lib/python3.12/site-packages (from aiohttp<4,>=3.8.6->llama-index-core<0.15,>=0.13.0->llama-index-tools-mcp) (25.3.0)\n",
      "Requirement already satisfied: frozenlist>=1.1.1 in /Users/paesir/Desktop/git/llama-index/.venv/lib/python3.12/site-packages (from aiohttp<4,>=3.8.6->llama-index-core<0.15,>=0.13.0->llama-index-tools-mcp) (1.7.0)\n",
      "Requirement already satisfied: multidict<7.0,>=4.5 in /Users/paesir/Desktop/git/llama-index/.venv/lib/python3.12/site-packages (from aiohttp<4,>=3.8.6->llama-index-core<0.15,>=0.13.0->llama-index-tools-mcp) (6.6.4)\n",
      "Requirement already satisfied: propcache>=0.2.0 in /Users/paesir/Desktop/git/llama-index/.venv/lib/python3.12/site-packages (from aiohttp<4,>=3.8.6->llama-index-core<0.15,>=0.13.0->llama-index-tools-mcp) (0.3.2)\n",
      "Requirement already satisfied: yarl<2.0,>=1.17.0 in /Users/paesir/Desktop/git/llama-index/.venv/lib/python3.12/site-packages (from aiohttp<4,>=3.8.6->llama-index-core<0.15,>=0.13.0->llama-index-tools-mcp) (1.20.1)\n",
      "Requirement already satisfied: griffe in /Users/paesir/Desktop/git/llama-index/.venv/lib/python3.12/site-packages (from banks<3,>=2.2.0->llama-index-core<0.15,>=0.13.0->llama-index-tools-mcp) (1.14.0)\n",
      "Requirement already satisfied: jinja2 in /Users/paesir/Desktop/git/llama-index/.venv/lib/python3.12/site-packages (from banks<3,>=2.2.0->llama-index-core<0.15,>=0.13.0->llama-index-tools-mcp) (3.1.6)\n",
      "Requirement already satisfied: llama-index-instrumentation>=0.1.0 in /Users/paesir/Desktop/git/llama-index/.venv/lib/python3.12/site-packages (from llama-index-workflows<3,>=2->llama-index-core<0.15,>=0.13.0->llama-index-tools-mcp) (0.4.0)\n",
      "Requirement already satisfied: anyio>=4.5 in /Users/paesir/Desktop/git/llama-index/.venv/lib/python3.12/site-packages (from mcp<2,>=1.9.1->llama-index-tools-mcp) (4.10.0)\n",
      "Requirement already satisfied: httpx-sse>=0.4 in /Users/paesir/Desktop/git/llama-index/.venv/lib/python3.12/site-packages (from mcp<2,>=1.9.1->llama-index-tools-mcp) (0.4.1)\n",
      "Requirement already satisfied: jsonschema>=4.20.0 in /Users/paesir/Desktop/git/llama-index/.venv/lib/python3.12/site-packages (from mcp<2,>=1.9.1->llama-index-tools-mcp) (4.25.1)\n",
      "Requirement already satisfied: pydantic-settings>=2.5.2 in /Users/paesir/Desktop/git/llama-index/.venv/lib/python3.12/site-packages (from mcp<2,>=1.9.1->llama-index-tools-mcp) (2.10.1)\n",
      "Requirement already satisfied: python-multipart>=0.0.9 in /Users/paesir/Desktop/git/llama-index/.venv/lib/python3.12/site-packages (from mcp<2,>=1.9.1->llama-index-tools-mcp) (0.0.20)\n",
      "Requirement already satisfied: sse-starlette>=1.6.1 in /Users/paesir/Desktop/git/llama-index/.venv/lib/python3.12/site-packages (from mcp<2,>=1.9.1->llama-index-tools-mcp) (3.0.2)\n",
      "Requirement already satisfied: starlette>=0.27 in /Users/paesir/Desktop/git/llama-index/.venv/lib/python3.12/site-packages (from mcp<2,>=1.9.1->llama-index-tools-mcp) (0.47.3)\n",
      "Requirement already satisfied: uvicorn>=0.31.1 in /Users/paesir/Desktop/git/llama-index/.venv/lib/python3.12/site-packages (from mcp<2,>=1.9.1->llama-index-tools-mcp) (0.35.0)\n",
      "Requirement already satisfied: annotated-types>=0.6.0 in /Users/paesir/Desktop/git/llama-index/.venv/lib/python3.12/site-packages (from pydantic<3,>=2.0.0->llama-index-tools-mcp) (0.7.0)\n",
      "Requirement already satisfied: pydantic-core==2.33.2 in /Users/paesir/Desktop/git/llama-index/.venv/lib/python3.12/site-packages (from pydantic<3,>=2.0.0->llama-index-tools-mcp) (2.33.2)\n",
      "Requirement already satisfied: typing-inspection>=0.4.0 in /Users/paesir/Desktop/git/llama-index/.venv/lib/python3.12/site-packages (from pydantic<3,>=2.0.0->llama-index-tools-mcp) (0.4.1)\n",
      "Requirement already satisfied: idna>=2.0 in /Users/paesir/Desktop/git/llama-index/.venv/lib/python3.12/site-packages (from yarl<2.0,>=1.17.0->aiohttp<4,>=3.8.6->llama-index-core<0.15,>=0.13.0->llama-index-tools-mcp) (3.10)\n",
      "Requirement already satisfied: sniffio>=1.1 in /Users/paesir/Desktop/git/llama-index/.venv/lib/python3.12/site-packages (from anyio>=4.5->mcp<2,>=1.9.1->llama-index-tools-mcp) (1.3.1)\n",
      "Requirement already satisfied: certifi in /Users/paesir/Desktop/git/llama-index/.venv/lib/python3.12/site-packages (from httpx->llama-index-core<0.15,>=0.13.0->llama-index-tools-mcp) (2025.8.3)\n",
      "Requirement already satisfied: httpcore==1.* in /Users/paesir/Desktop/git/llama-index/.venv/lib/python3.12/site-packages (from httpx->llama-index-core<0.15,>=0.13.0->llama-index-tools-mcp) (1.0.9)\n",
      "Requirement already satisfied: h11>=0.16 in /Users/paesir/Desktop/git/llama-index/.venv/lib/python3.12/site-packages (from httpcore==1.*->httpx->llama-index-core<0.15,>=0.13.0->llama-index-tools-mcp) (0.16.0)\n",
      "Requirement already satisfied: jsonschema-specifications>=2023.03.6 in /Users/paesir/Desktop/git/llama-index/.venv/lib/python3.12/site-packages (from jsonschema>=4.20.0->mcp<2,>=1.9.1->llama-index-tools-mcp) (2025.9.1)\n",
      "Requirement already satisfied: referencing>=0.28.4 in /Users/paesir/Desktop/git/llama-index/.venv/lib/python3.12/site-packages (from jsonschema>=4.20.0->mcp<2,>=1.9.1->llama-index-tools-mcp) (0.36.2)\n",
      "Requirement already satisfied: rpds-py>=0.7.1 in /Users/paesir/Desktop/git/llama-index/.venv/lib/python3.12/site-packages (from jsonschema>=4.20.0->mcp<2,>=1.9.1->llama-index-tools-mcp) (0.27.1)\n",
      "Requirement already satisfied: click in /Users/paesir/Desktop/git/llama-index/.venv/lib/python3.12/site-packages (from nltk>3.8.1->llama-index-core<0.15,>=0.13.0->llama-index-tools-mcp) (8.2.1)\n",
      "Requirement already satisfied: joblib in /Users/paesir/Desktop/git/llama-index/.venv/lib/python3.12/site-packages (from nltk>3.8.1->llama-index-core<0.15,>=0.13.0->llama-index-tools-mcp) (1.5.2)\n",
      "Requirement already satisfied: regex>=2021.8.3 in /Users/paesir/Desktop/git/llama-index/.venv/lib/python3.12/site-packages (from nltk>3.8.1->llama-index-core<0.15,>=0.13.0->llama-index-tools-mcp) (2025.9.1)\n",
      "Requirement already satisfied: python-dotenv>=0.21.0 in /Users/paesir/Desktop/git/llama-index/.venv/lib/python3.12/site-packages (from pydantic-settings>=2.5.2->mcp<2,>=1.9.1->llama-index-tools-mcp) (1.1.1)\n",
      "Requirement already satisfied: charset_normalizer<4,>=2 in /Users/paesir/Desktop/git/llama-index/.venv/lib/python3.12/site-packages (from requests>=2.31.0->llama-index-core<0.15,>=0.13.0->llama-index-tools-mcp) (3.4.3)\n",
      "Requirement already satisfied: urllib3<3,>=1.21.1 in /Users/paesir/Desktop/git/llama-index/.venv/lib/python3.12/site-packages (from requests>=2.31.0->llama-index-core<0.15,>=0.13.0->llama-index-tools-mcp) (2.5.0)\n",
      "Requirement already satisfied: greenlet>=1 in /Users/paesir/Desktop/git/llama-index/.venv/lib/python3.12/site-packages (from sqlalchemy[asyncio]>=1.4.49->llama-index-core<0.15,>=0.13.0->llama-index-tools-mcp) (3.2.4)\n",
      "Requirement already satisfied: mypy-extensions>=0.3.0 in /Users/paesir/Desktop/git/llama-index/.venv/lib/python3.12/site-packages (from typing-inspect>=0.8.0->llama-index-core<0.15,>=0.13.0->llama-index-tools-mcp) (1.1.0)\n",
      "Requirement already satisfied: marshmallow<4.0.0,>=3.18.0 in /Users/paesir/Desktop/git/llama-index/.venv/lib/python3.12/site-packages (from dataclasses-json->llama-index-core<0.15,>=0.13.0->llama-index-tools-mcp) (3.26.1)\n",
      "Requirement already satisfied: packaging>=17.0 in /Users/paesir/Desktop/git/llama-index/.venv/lib/python3.12/site-packages (from marshmallow<4.0.0,>=3.18.0->dataclasses-json->llama-index-core<0.15,>=0.13.0->llama-index-tools-mcp) (24.2)\n",
      "Requirement already satisfied: colorama>=0.4 in /Users/paesir/Desktop/git/llama-index/.venv/lib/python3.12/site-packages (from griffe->banks<3,>=2.2.0->llama-index-core<0.15,>=0.13.0->llama-index-tools-mcp) (0.4.6)\n",
      "Requirement already satisfied: MarkupSafe>=2.0 in /Users/paesir/Desktop/git/llama-index/.venv/lib/python3.12/site-packages (from jinja2->banks<3,>=2.2.0->llama-index-core<0.15,>=0.13.0->llama-index-tools-mcp) (3.0.2)\n",
      "Downloading llama_index_tools_mcp-0.4.1-py3-none-any.whl (13 kB)\n",
      "Using cached llama_index_core-0.14.1-py3-none-any.whl (11.9 MB)\n",
      "Using cached llama_index_workflows-2.2.0-py3-none-any.whl (56 kB)\n",
      "Installing collected packages: llama-index-workflows, llama-index-core, llama-index-tools-mcp\n",
      "\u001b[2K  Attempting uninstall: llama-index-workflows\n",
      "\u001b[2K    Found existing installation: llama-index-workflows 1.3.0\n",
      "\u001b[2K    Uninstalling llama-index-workflows-1.3.0:\n",
      "\u001b[2K      Successfully uninstalled llama-index-workflows-1.3.0\n",
      "\u001b[2K  Attempting uninstall: llama-index-core\n",
      "\u001b[2K    Found existing installation: llama-index-core 0.12.52.post1\n",
      "\u001b[2K    Uninstalling llama-index-core-0.12.52.post1:\n",
      "\u001b[2K      Successfully uninstalled llama-index-core-0.12.52.post1\n",
      "\u001b[2K   \u001b[90m━━━━━━━━━━━━━━━━━━━━━━━━━━━━━━━━━━━━━━━━\u001b[0m \u001b[32m3/3\u001b[0m [llama-index-tools-mcp]a-index-core]\n",
      "\u001b[1A\u001b[2K\u001b[31mERROR: pip's dependency resolver does not currently take into account all the packages that are installed. This behaviour is the source of the following dependency conflicts.\n",
      "llama-index-embeddings-huggingface 0.3.0 requires llama-index-core<0.12.0,>=0.11.0, but you have llama-index-core 0.14.1 which is incompatible.\n",
      "llama-index-multi-modal-llms-openai 0.4.3 requires llama-index-core<0.13.0,>=0.12.3, but you have llama-index-core 0.14.1 which is incompatible.\n",
      "llama-index-indices-managed-llama-cloud 0.8.0 requires llama-index-core<0.13,>=0.12.0, but you have llama-index-core 0.14.1 which is incompatible.\n",
      "llama-index 0.12.35 requires llama-index-core<0.13,>=0.12.35, but you have llama-index-core 0.14.1 which is incompatible.\n",
      "llama-index-llms-openai 0.3.44 requires llama-index-core<0.13,>=0.12.37, but you have llama-index-core 0.14.1 which is incompatible.\n",
      "llama-index-readers-llama-parse 0.4.0 requires llama-index-core<0.13.0,>=0.12.0, but you have llama-index-core 0.14.1 which is incompatible.\n",
      "llama-index-cli 0.4.1 requires llama-index-core<0.13.0,>=0.12.0, but you have llama-index-core 0.14.1 which is incompatible.\n",
      "llama-index-readers-file 0.4.11 requires llama-index-core<0.13,>=0.12.0, but you have llama-index-core 0.14.1 which is incompatible.\n",
      "llama-index-embeddings-openai 0.3.1 requires llama-index-core<0.13.0,>=0.12.0, but you have llama-index-core 0.14.1 which is incompatible.\n",
      "llama-index-agent-openai 0.4.8 requires llama-index-core<0.13,>=0.12.18, but you have llama-index-core 0.14.1 which is incompatible.\n",
      "llama-index-question-gen-openai 0.3.0 requires llama-index-core<0.13.0,>=0.12.0, but you have llama-index-core 0.14.1 which is incompatible.\n",
      "llama-index-readers-database 0.3.0 requires llama-index-core<0.13.0,>=0.12.0, but you have llama-index-core 0.14.1 which is incompatible.\n",
      "llama-index-program-openai 0.3.1 requires llama-index-core<0.13.0,>=0.12.0, but you have llama-index-core 0.14.1 which is incompatible.\n",
      "llama-index-vector-stores-pinecone 0.3.0 requires llama-index-core<0.12.0,>=0.11.10, but you have llama-index-core 0.14.1 which is incompatible.\u001b[0m\u001b[31m\n",
      "\u001b[0mSuccessfully installed llama-index-core-0.14.1 llama-index-tools-mcp-0.4.1 llama-index-workflows-2.2.0\n"
     ]
    }
   ],
   "source": [
    "!pip install mcp fastmcp\n",
    "!pip install llama-index-tools-mcp"
   ]
  },
  {
   "cell_type": "code",
   "execution_count": 13,
   "id": "b02690a9",
   "metadata": {},
   "outputs": [],
   "source": [
    "# 헬퍼: 백그라운드 실행/종료 + PID/로그 관리\n",
    "import os, sys, json, signal, subprocess\n",
    "from pathlib import Path\n",
    "\n",
    "ROOT = Path.cwd()\n",
    "PID_DIR = ROOT / \".pids\"\n",
    "LOG_DIR = ROOT / \".logs\"\n",
    "PID_DIR.mkdir(exist_ok=True)\n",
    "LOG_DIR.mkdir(exist_ok=True)\n",
    "\n",
    "def _env():\n",
    "    env = os.environ.copy()\n",
    "    # .env 사용 시 자동로드(없으면 무시)\n",
    "    try:\n",
    "        from dotenv import load_dotenv\n",
    "        load_dotenv(ROOT / \".env\")\n",
    "        env.update(os.environ)\n",
    "    except Exception:\n",
    "        pass\n",
    "    return env\n",
    "\n",
    "def start_bg(script_rel: str, name: str):\n",
    "    \"\"\"script_rel: 예) 'server.py' / 'document_search/server.py' 등\n",
    "       name: 식별용 태그(로그/피드파일명) 예) 'basic', 'docs', 'weather'\n",
    "    \"\"\"\n",
    "    script_abs = (ROOT / script_rel).resolve()\n",
    "    if not script_abs.exists():\n",
    "        raise FileNotFoundError(script_abs)\n",
    "    pid_file = PID_DIR / f\"{name}.pid\"\n",
    "    log_file = LOG_DIR / f\"{name}.log\"\n",
    "    fout = open(log_file, \"a\", buffering=1)             # 로그 파일에 바로 기록\n",
    "    p = subprocess.Popen(\n",
    "        [sys.executable, str(script_abs)],\n",
    "        cwd=str(script_abs.parent),\n",
    "        env=_env(),\n",
    "        stdout=fout,\n",
    "        stderr=subprocess.STDOUT,\n",
    "        text=True,\n",
    "        bufsize=1\n",
    "    )\n",
    "    pid_file.write_text(str(p.pid))\n",
    "    print(f\"[START] {name}: pid={p.pid}, log={log_file}\")\n",
    "\n",
    "def stop_bg(name: str):\n",
    "    \"\"\"name으로 기록된 프로세스 종료\"\"\"\n",
    "    pid_file = PID_DIR / f\"{name}.pid\"\n",
    "    if not pid_file.exists():\n",
    "        print(f\"[INFO] no pid for {name}\")\n",
    "        return\n",
    "    pid = int(pid_file.read_text().strip() or \"0\")\n",
    "    try:\n",
    "        os.kill(pid, signal.SIGTERM)\n",
    "        print(f\"[STOP] {name}: SIGTERM sent to pid={pid}\")\n",
    "    except ProcessLookupError:\n",
    "        print(f\"[WARN] {name}: pid {pid} not found (already dead?)\")\n",
    "    except Exception as e:\n",
    "        print(f\"[WARN] {name}: kill failed -> {e}\")\n",
    "    try:\n",
    "        pid_file.unlink()\n",
    "    except Exception:\n",
    "        pass\n",
    "\n",
    "def tail_log(name: str, n: int = 80):\n",
    "    \"\"\"최근 로그 확인\"\"\"\n",
    "    log_file = LOG_DIR / f\"{name}.log\"\n",
    "    if not log_file.exists():\n",
    "        print(f\"[INFO] no log for {name}\")\n",
    "        return\n",
    "    # 간단 tail\n",
    "    with open(log_file, \"r\") as f:\n",
    "        lines = f.readlines()[-n:]\n",
    "    print(\"\".join(lines))"
   ]
  },
  {
   "cell_type": "markdown",
   "id": "cca13dad",
   "metadata": {},
   "source": [
    "## ch10 server.py 실행 / 종료"
   ]
  },
  {
   "cell_type": "code",
   "execution_count": 14,
   "id": "58c2bc22",
   "metadata": {},
   "outputs": [
    {
     "name": "stdout",
     "output_type": "stream",
     "text": [
      "[START] basic: pid=99765, log=/Users/paesir/Desktop/git/llama-index/ch10/.logs/basic.log\n",
      "\n"
     ]
    }
   ],
   "source": [
    "# 기본 MCP 서버 백그라운드 실행\n",
    "start_bg(\"server.py\", name=\"basic\")\n",
    "\n",
    "# 필요하면 최근 로그만 확인\n",
    "tail_log(\"basic\", n=50)"
   ]
  },
  {
   "cell_type": "code",
   "execution_count": 18,
   "id": "82509960",
   "metadata": {},
   "outputs": [
    {
     "name": "stdout",
     "output_type": "stream",
     "text": [
      "{\n",
      "  \"name\": \"search_llama_docs\",\n",
      "  \"description\": \"llamaindex 문서에서 질의에 맞는 내용을 검색합니다.\",\n",
      "  \"parameters\": {\n",
      "    \"properties\": {\n",
      "      \"query\": {\n",
      "        \"description\": \"\",\n",
      "        \"title\": \"Query\",\n",
      "        \"type\": \"string\"\n",
      "      }\n",
      "    },\n",
      "    \"required\": [\n",
      "      \"query\"\n",
      "    ],\n",
      "    \"type\": \"object\"\n",
      "  }\n",
      "}\n",
      "{\n",
      "  \"name\": \"search_github_docs\",\n",
      "  \"description\": \"깃허브 문서에서 질의에 맞는 내용을 검색합니다.\",\n",
      "  \"parameters\": {\n",
      "    \"properties\": {\n",
      "      \"query\": {\n",
      "        \"description\": \"\",\n",
      "        \"title\": \"Query\",\n",
      "        \"type\": \"string\"\n",
      "      }\n",
      "    },\n",
      "    \"required\": [\n",
      "      \"query\"\n",
      "    ],\n",
      "    \"type\": \"object\"\n",
      "  }\n",
      "}\n",
      "\n"
     ]
    }
   ],
   "source": [
    "# List Tools\n",
    "env = _load_env()\n",
    "p = subprocess.run([sys.executable, str((ROOT / \"list_tools.py\").resolve())],\n",
    "                   cwd=str(ROOT),\n",
    "                   env=env, capture_output=True, text=True)\n",
    "print(p.stdout or p.stderr)"
   ]
  },
  {
   "cell_type": "code",
   "execution_count": 16,
   "id": "faa52442",
   "metadata": {},
   "outputs": [
    {
     "name": "stdout",
     "output_type": "stream",
     "text": [
      "[STOP] basic: SIGTERM sent to pid=99765\n"
     ]
    }
   ],
   "source": [
    "# 서버 종료\n",
    "stop_bg(\"basic\")"
   ]
  },
  {
   "cell_type": "markdown",
   "id": "7259a236",
   "metadata": {},
   "source": [
    "## document 서버 실행 / 종료"
   ]
  },
  {
   "cell_type": "code",
   "execution_count": 23,
   "id": "dd31bd2e",
   "metadata": {},
   "outputs": [
    {
     "name": "stdout",
     "output_type": "stream",
     "text": [
      "[START] document: pid=99924, log=/Users/paesir/Desktop/git/llama-index/ch10/.logs/document.log\n",
      "INFO:     Started server process [99872]\n",
      "INFO:     Waiting for application startup.\n",
      "INFO:     Application startup complete.\n",
      "ERROR:    [Errno 48] error while attempting to bind on address ('127.0.0.1', 8000): [errno 48] address already in use\n",
      "INFO:     Waiting for application shutdown.\n",
      "INFO:     Application shutdown complete.\n",
      "\n"
     ]
    }
   ],
   "source": [
    "# ▶ Start Document Search Server\n",
    "# MCP 서버 백그라운드 실행\n",
    "start_bg(\"document_search/server.py\", name=\"document\")\n",
    "\n",
    "# 필요하면 최근 로그만 확인\n",
    "tail_log(\"document\", n=50)"
   ]
  },
  {
   "cell_type": "code",
   "execution_count": 20,
   "id": "783cfaf6",
   "metadata": {},
   "outputs": [
    {
     "name": "stdout",
     "output_type": "stream",
     "text": [
      "{\n",
      "  \"name\": \"search_llama_docs\",\n",
      "  \"description\": \"llamaindex 문서에서 질의에 맞는 내용을 검색합니다.\",\n",
      "  \"parameters\": {\n",
      "    \"properties\": {\n",
      "      \"query\": {\n",
      "        \"description\": \"\",\n",
      "        \"title\": \"Query\",\n",
      "        \"type\": \"string\"\n",
      "      }\n",
      "    },\n",
      "    \"required\": [\n",
      "      \"query\"\n",
      "    ],\n",
      "    \"type\": \"object\"\n",
      "  }\n",
      "}\n",
      "{\n",
      "  \"name\": \"search_github_docs\",\n",
      "  \"description\": \"깃허브 문서에서 질의에 맞는 내용을 검색합니다.\",\n",
      "  \"parameters\": {\n",
      "    \"properties\": {\n",
      "      \"query\": {\n",
      "        \"description\": \"\",\n",
      "        \"title\": \"Query\",\n",
      "        \"type\": \"string\"\n",
      "      }\n",
      "    },\n",
      "    \"required\": [\n",
      "      \"query\"\n",
      "    ],\n",
      "    \"type\": \"object\"\n",
      "  }\n",
      "}\n",
      "\n"
     ]
    }
   ],
   "source": [
    "# (Optional) List Tools for Document Search\n",
    "env = _load_env()\n",
    "list_path = ROOT / \"document_search\" / \"list_tools.py\"\n",
    "if list_path.exists():\n",
    "    p = subprocess.run([sys.executable, str(list_path.resolve())],\n",
    "                       cwd=str(list_path.parent),\n",
    "                       env=env, capture_output=True, text=True)\n",
    "    print(p.stdout or p.stderr)\n",
    "else:\n",
    "    print(\"[INFO] document_search/list_tools.py not found.\")"
   ]
  },
  {
   "cell_type": "code",
   "execution_count": 21,
   "id": "67278405",
   "metadata": {},
   "outputs": [
    {
     "name": "stdout",
     "output_type": "stream",
     "text": [
      "\n",
      "=== 에이전트 응답 ===\n",
      "\n",
      "Llama-Index를 활용하여 문서를 검색하는 방법은 다음과 같습니다:\n",
      "\n",
      "1. **파일 경로 방문**: LlamaIndex 문서가 저장된 파일 경로를 방문하여 관련 정보를 찾습니다.\n",
      "2. **내용 탐색**: 문서의 내용을 살펴보며 LlamaIndex와 관련된 정보를 검색합니다.\n",
      "3. **생태계 탐색**: LlamaIndex 생태계 및 관련 프로젝트를 탐색하여 추가적인 리소스를 찾습니다.\n",
      "\n",
      "이러한 방법을 통해 Llama-Index와 관련된 유용한 정보를 효과적으로 검색할 수 있습니다.\n",
      "\n"
     ]
    }
   ],
   "source": [
    "# ▶ Run Document Search Client\n",
    "env = _load_env()\n",
    "client_path = ROOT / \"document_search\" / \"client.py\"\n",
    "if client_path.exists():\n",
    "    p = subprocess.run([sys.executable, str(client_path.resolve())],\n",
    "                       cwd=str(client_path.parent),\n",
    "                       env=env, capture_output=True, text=True)\n",
    "    print(p.stdout or p.stderr)\n",
    "else:\n",
    "    print(\"[INFO] document_search/client.py not found.\")"
   ]
  },
  {
   "cell_type": "code",
   "execution_count": 24,
   "id": "61e805bc",
   "metadata": {},
   "outputs": [
    {
     "name": "stdout",
     "output_type": "stream",
     "text": [
      "[STOP] document: SIGTERM sent to pid=99924\n"
     ]
    }
   ],
   "source": [
    "# 서버 종료\n",
    "stop_bg(\"document\")"
   ]
  },
  {
   "cell_type": "markdown",
   "id": "73e28f64",
   "metadata": {},
   "source": [
    "## weather 서버 실행 / 종료"
   ]
  },
  {
   "cell_type": "code",
   "execution_count": 25,
   "id": "671b0a70",
   "metadata": {},
   "outputs": [
    {
     "name": "stdout",
     "output_type": "stream",
     "text": [
      "[START] weather: pid=99964, log=/Users/paesir/Desktop/git/llama-index/ch10/.logs/weather.log\n",
      "\n"
     ]
    }
   ],
   "source": [
    "# ▶ Start Weather Server\n",
    "# MCP 서버 백그라운드 실행\n",
    "start_bg(\"weather/weather-server.py\", name=\"weather\")\n",
    "\n",
    "# 필요하면 최근 로그만 확인\n",
    "tail_log(\"weather\", n=50)"
   ]
  },
  {
   "cell_type": "code",
   "execution_count": 26,
   "id": "18ec59b8",
   "metadata": {},
   "outputs": [
    {
     "name": "stdout",
     "output_type": "stream",
     "text": [
      "사용자: 오늘 날씨 어때?\n",
      "에이전트: 어떤 도시의 날씨를 알고 싶으신가요? 도시명을 말씀해 주시면 그에 맞는 정보를 제공해 드리겠습니다.\n",
      "사용자: 서울이에요\n",
      "에이전트: 서울의 날씨 정보를 알고 싶으신가요? 오늘 또는 내일 중 어떤 날씨 정보를 원하시는지 말씀해 주세요.\n",
      "사용자: 내일 부산 날씨는?\n",
      "에이전트: 죄송하지만, 내일 부산의 날씨에 대한 정보를 제공할 수 없습니다. 다른 질문이 있으시면 도와드리겠습니다!\n",
      "\n"
     ]
    }
   ],
   "source": [
    "# ▶ Run Weather Client\n",
    "env = _load_env()\n",
    "client_path = ROOT / \"weather\" / \"weather-client.py\"\n",
    "p = subprocess.run([sys.executable, str(client_path.resolve())],\n",
    "                   cwd=str(client_path.parent),\n",
    "                   env=env, capture_output=True, text=True)\n",
    "print(p.stdout or p.stderr)"
   ]
  },
  {
   "cell_type": "code",
   "execution_count": 27,
   "id": "e3b307d4",
   "metadata": {},
   "outputs": [
    {
     "name": "stdout",
     "output_type": "stream",
     "text": [
      "[STOP] weather: SIGTERM sent to pid=99964\n"
     ]
    }
   ],
   "source": [
    "# 서버 종료\n",
    "stop_bg(\"weather\")"
   ]
  },
  {
   "cell_type": "markdown",
   "id": "19df9855",
   "metadata": {},
   "source": [
    "## decorater 실행"
   ]
  },
  {
   "cell_type": "code",
   "execution_count": 28,
   "id": "04d2111d",
   "metadata": {},
   "outputs": [
    {
     "name": "stdout",
     "output_type": "stream",
     "text": [
      "Calling function: greet\n",
      "Hello, Alice!\n",
      "\n"
     ]
    }
   ],
   "source": [
    "# ▶ Run decorator sample\n",
    "path = ROOT / \"decorater_sample.py\"\n",
    "if path.exists():\n",
    "    env = _load_env()\n",
    "    p = subprocess.run([sys.executable, str(path.resolve())],\n",
    "                       cwd=str(path.parent),\n",
    "                       env=env, capture_output=True, text=True)\n",
    "    print(p.stdout or p.stderr)\n",
    "else:\n",
    "    print(\"[INFO] decorater_sample.py not found.\")"
   ]
  },
  {
   "cell_type": "markdown",
   "id": "c2ecb8f3",
   "metadata": {},
   "source": [
    "## 모든 서버 종료"
   ]
  },
  {
   "cell_type": "code",
   "execution_count": 29,
   "id": "48b3d9b3",
   "metadata": {},
   "outputs": [
    {
     "name": "stdout",
     "output_type": "stream",
     "text": [
      "[DONE] stop_all\n"
     ]
    }
   ],
   "source": [
    "stop_all()"
   ]
  },
  {
   "cell_type": "code",
   "execution_count": null,
   "id": "4572fd71",
   "metadata": {},
   "outputs": [],
   "source": []
  }
 ],
 "metadata": {
  "kernelspec": {
   "display_name": ".venv",
   "language": "python",
   "name": "python3"
  },
  "language_info": {
   "codemirror_mode": {
    "name": "ipython",
    "version": 3
   },
   "file_extension": ".py",
   "mimetype": "text/x-python",
   "name": "python",
   "nbconvert_exporter": "python",
   "pygments_lexer": "ipython3",
   "version": "3.12.8"
  }
 },
 "nbformat": 4,
 "nbformat_minor": 5
}
